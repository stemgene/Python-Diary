{
  "nbformat": 4,
  "nbformat_minor": 0,
  "metadata": {
    "colab": {
      "name": "Class.ipynb",
      "provenance": [],
      "include_colab_link": true
    },
    "kernelspec": {
      "name": "python3",
      "display_name": "Python 3"
    }
  },
  "cells": [
    {
      "cell_type": "markdown",
      "metadata": {
        "id": "view-in-github",
        "colab_type": "text"
      },
      "source": [
        "<a href=\"https://colab.research.google.com/github/stemgene/Python-Diary/blob/master/Class.ipynb\" target=\"_parent\"><img src=\"https://colab.research.google.com/assets/colab-badge.svg\" alt=\"Open In Colab\"/></a>"
      ]
    },
    {
      "cell_type": "markdown",
      "metadata": {
        "id": "UGkvnZ7t6uXi",
        "colab_type": "text"
      },
      "source": [
        "# 类的基本概念和语法"
      ]
    },
    {
      "cell_type": "markdown",
      "metadata": {
        "id": "j6ch30h5640R",
        "colab_type": "text"
      },
      "source": [
        "## 类和实例(Class, Instance)"
      ]
    },
    {
      "cell_type": "markdown",
      "metadata": {
        "id": "_n2_nrwJdIcM",
        "colab_type": "text"
      },
      "source": [
        "Class是抽象的模板，实例是根据class创建出来的一个个具体的object"
      ]
    },
    {
      "cell_type": "code",
      "metadata": {
        "id": "XwFIYZf76pEg",
        "colab_type": "code",
        "outputId": "820376d9-b8d1-46ee-b232-048d4fc2cb07",
        "colab": {
          "base_uri": "https://localhost:8080/",
          "height": 34
        }
      },
      "source": [
        "# Class\n",
        "class Person:\n",
        "    # attribute fields\n",
        "    name = 'William'\n",
        "    age = 45\n",
        "    # method\n",
        "    def greet(self):\n",
        "      print(\"Hi, my name is \" + self.name)\n",
        "\n",
        "# Create an Object\n",
        "p1 = Person()\n",
        "# Call the method\n",
        "p1.greet()"
      ],
      "execution_count": 0,
      "outputs": [
        {
          "output_type": "stream",
          "text": [
            "Hi, my name is William\n"
          ],
          "name": "stdout"
        }
      ]
    },
    {
      "cell_type": "code",
      "metadata": {
        "id": "cK8DHCZr7rB2",
        "colab_type": "code",
        "outputId": "be64cebc-2bae-4afe-bdee-9ec6e2756743",
        "colab": {
          "base_uri": "https://localhost:8080/",
          "height": 34
        }
      },
      "source": [
        "# Modify Object Properties\n",
        "p1.age = 40\n",
        "print(p1.age)"
      ],
      "execution_count": 0,
      "outputs": [
        {
          "output_type": "stream",
          "text": [
            "40\n"
          ],
          "name": "stdout"
        }
      ]
    },
    {
      "cell_type": "code",
      "metadata": {
        "id": "MhV532as7z_n",
        "colab_type": "code",
        "outputId": "d6e24b4c-3587-4550-eb09-560ce7837347",
        "colab": {
          "base_uri": "https://localhost:8080/",
          "height": 198
        }
      },
      "source": [
        "# Delete Object Properties\n",
        "del p1.age\n",
        "# Delete Objects\n",
        "del p1\n",
        "print(p1.age)"
      ],
      "execution_count": 0,
      "outputs": [
        {
          "output_type": "error",
          "ename": "NameError",
          "evalue": "ignored",
          "traceback": [
            "\u001b[0;31m---------------------------------------------------------------------------\u001b[0m",
            "\u001b[0;31mNameError\u001b[0m                                 Traceback (most recent call last)",
            "\u001b[0;32m<ipython-input-4-c1d9798890e4>\u001b[0m in \u001b[0;36m<module>\u001b[0;34m()\u001b[0m\n\u001b[1;32m      2\u001b[0m \u001b[0;31m# Delete Objects\u001b[0m\u001b[0;34m\u001b[0m\u001b[0;34m\u001b[0m\u001b[0;34m\u001b[0m\u001b[0m\n\u001b[1;32m      3\u001b[0m \u001b[0;32mdel\u001b[0m \u001b[0mp1\u001b[0m\u001b[0;34m\u001b[0m\u001b[0;34m\u001b[0m\u001b[0m\n\u001b[0;32m----> 4\u001b[0;31m \u001b[0mprint\u001b[0m\u001b[0;34m(\u001b[0m\u001b[0mp1\u001b[0m\u001b[0;34m.\u001b[0m\u001b[0mage\u001b[0m\u001b[0;34m)\u001b[0m\u001b[0;34m\u001b[0m\u001b[0;34m\u001b[0m\u001b[0m\n\u001b[0m",
            "\u001b[0;31mNameError\u001b[0m: name 'p1' is not defined"
          ]
        }
      ]
    },
    {
      "cell_type": "markdown",
      "metadata": {
        "id": "eZNJn8m98NJ4",
        "colab_type": "text"
      },
      "source": [
        "### init, self"
      ]
    },
    {
      "cell_type": "code",
      "metadata": {
        "id": "o8-PHF7a8GZg",
        "colab_type": "code",
        "outputId": "326ddf1f-42f8-4e5c-bc0d-1e64b26a973c",
        "colab": {
          "base_uri": "https://localhost:8080/",
          "height": 34
        }
      },
      "source": [
        "class Person:\n",
        "  def __init__(self):\n",
        "    self.name = \"Alice\"\n",
        "  def greet(self):\n",
        "    print(\"Hi, my name is \" + self.name)\n",
        "\n",
        "p1 = Person()\n",
        "p1.greet()"
      ],
      "execution_count": 0,
      "outputs": [
        {
          "output_type": "stream",
          "text": [
            "Hi, my name is Alice\n"
          ],
          "name": "stdout"
        }
      ]
    },
    {
      "cell_type": "code",
      "metadata": {
        "id": "EJL43iJPAyAq",
        "colab_type": "code",
        "outputId": "cb2b6e8b-d0f7-4d6f-dd86-75b427d98f6c",
        "colab": {
          "base_uri": "https://localhost:8080/",
          "height": 34
        }
      },
      "source": [
        "class Person:\n",
        "  def __init__(self, inputname): # input a argument\n",
        "    self.name = inputname\n",
        "  def greet(self):\n",
        "    print(\"Hi, my name is \", self.name)\n",
        "\n",
        "p1 = Person(\"David\") #调用时需要传参\n",
        "p1.greet()"
      ],
      "execution_count": 0,
      "outputs": [
        {
          "output_type": "stream",
          "text": [
            "Hi, my name is  David\n"
          ],
          "name": "stdout"
        }
      ]
    },
    {
      "cell_type": "markdown",
      "metadata": {
        "id": "ZKPrpWxugA9q",
        "colab_type": "text"
      },
      "source": [
        "## 数据封装"
      ]
    },
    {
      "cell_type": "code",
      "metadata": {
        "id": "qOpSfowLf_m_",
        "colab_type": "code",
        "colab": {}
      },
      "source": [
        "class Student():\n",
        "  def __init__(self, name, score):\n",
        "    self.name = name\n",
        "    self.score = score\n"
      ],
      "execution_count": 0,
      "outputs": []
    },
    {
      "cell_type": "code",
      "metadata": {
        "id": "JjmanFIrgyC2",
        "colab_type": "code",
        "outputId": "91e2287d-bd58-46a1-f2fa-2f9b4150c972",
        "colab": {
          "base_uri": "https://localhost:8080/",
          "height": 34
        }
      },
      "source": [
        "bart = Student(\"Bart Simpson\", 59)\n",
        "bart.name\n",
        "bart.score"
      ],
      "execution_count": 0,
      "outputs": [
        {
          "output_type": "execute_result",
          "data": {
            "text/plain": [
              "59"
            ]
          },
          "metadata": {
            "tags": []
          },
          "execution_count": 8
        }
      ]
    },
    {
      "cell_type": "markdown",
      "metadata": {
        "id": "lKNbAi6Zgvl3",
        "colab_type": "text"
      },
      "source": [
        "如果需要调用class中的内容，传统的方法是创建一个函数，然后读取内容"
      ]
    },
    {
      "cell_type": "code",
      "metadata": {
        "id": "aZE1gFYJhjoL",
        "colab_type": "code",
        "outputId": "692c3e42-7f0b-4086-d5bb-1694782be2e3",
        "colab": {
          "base_uri": "https://localhost:8080/",
          "height": 34
        }
      },
      "source": [
        "def print_score(std):\n",
        "  print(\"%s, %s\" %(std.name, std.score))\n",
        "\n",
        "print_score(bart)"
      ],
      "execution_count": 0,
      "outputs": [
        {
          "output_type": "stream",
          "text": [
            "Bart Simpson, 59\n"
          ],
          "name": "stdout"
        }
      ]
    },
    {
      "cell_type": "markdown",
      "metadata": {
        "id": "sOAfGw0bh_tF",
        "colab_type": "text"
      },
      "source": [
        "但是既然有了类，就没必要通过外面的函数去访问，可以将函数写在类中，并通过object调用，这就是method"
      ]
    },
    {
      "cell_type": "code",
      "metadata": {
        "id": "OFe7bFSMjTY2",
        "colab_type": "code",
        "outputId": "b6f9a7e2-013a-4547-8307-1d800b6f5e7b",
        "colab": {
          "base_uri": "https://localhost:8080/",
          "height": 34
        }
      },
      "source": [
        "class Student():\n",
        "  def __init__(self, name, score):\n",
        "    self.name = name\n",
        "    self.score = score\n",
        "  def print_score(self):\n",
        "    print(\"%s, %s\" %(self.name, self.score))\n",
        "\n",
        "bart = Student(\"Bart Simpson\", 59)\n",
        "bart.print_score()"
      ],
      "execution_count": 0,
      "outputs": [
        {
          "output_type": "stream",
          "text": [
            "Bart Simpson, 59\n"
          ],
          "name": "stdout"
        }
      ]
    },
    {
      "cell_type": "code",
      "metadata": {
        "id": "Ux5TOv0AgyRM",
        "colab_type": "code",
        "outputId": "8a12ffd8-f6c5-4710-c2f0-474f7c4936e5",
        "colab": {
          "base_uri": "https://localhost:8080/",
          "height": 51
        }
      },
      "source": [
        "lisa = Student(\"Lisa\", 99)\n",
        "bart = Student(\"Bart\", 59) #这是第二个object，class中的参数和method已经给第一个传过去了，所以即使创建多个objects，也互相不会影响\n",
        "lisa.print_score()\n",
        "bart.print_score()"
      ],
      "execution_count": 0,
      "outputs": [
        {
          "output_type": "stream",
          "text": [
            "Lisa, 99\n",
            "Bart, 59\n"
          ],
          "name": "stdout"
        }
      ]
    },
    {
      "cell_type": "markdown",
      "metadata": {
        "id": "1dGMiQzXKScW",
        "colab_type": "text"
      },
      "source": [
        "## 继承和多态(Inheritance, Polymorphism)"
      ]
    },
    {
      "cell_type": "markdown",
      "metadata": {
        "id": "kafGiBr-KgIM",
        "colab_type": "text"
      },
      "source": [
        "### 继承"
      ]
    },
    {
      "cell_type": "code",
      "metadata": {
        "id": "Z7Utax7yJT51",
        "colab_type": "code",
        "colab": {}
      },
      "source": [
        "class Animal():\n",
        "  def __init__(self, name):\n",
        "    self.name = name\n",
        "  def greeg(self):\n",
        "    print(\"Hello, I am an \", self.name)\n",
        "\n",
        "class Dog():\n",
        "  def __init__(self, name):\n",
        "    self.name = name\n",
        "  def greet(self):\n",
        "    print(\"Wangwang.., I am \", self.name)\n"
      ],
      "execution_count": 0,
      "outputs": []
    },
    {
      "cell_type": "markdown",
      "metadata": {
        "id": "eQQ6syuQMZ4c",
        "colab_type": "text"
      },
      "source": [
        "如果第二个类也想用第一个类的参数，采用继承的概念。**子类可以获得父类的全部功能**"
      ]
    },
    {
      "cell_type": "code",
      "metadata": {
        "id": "SQ_HL9vtiQhN",
        "colab_type": "code",
        "outputId": "f07de666-61c9-40e8-ab0c-dec8a4d9250a",
        "colab": {
          "base_uri": "https://localhost:8080/",
          "height": 51
        }
      },
      "source": [
        "# Dog和Cat继承了父类Animal的功能，即使在定义时什么都没干，也可以使用父类的功能\n",
        "class Animal():\n",
        "  def run(self):\n",
        "    print(\"Animal is runing\")\n",
        "  def eat(self):\n",
        "    print(\"Eating meat\")\n",
        "\n",
        "class Dog(Animal):\n",
        "  pass\n",
        "\n",
        "class Cat(Animal):\n",
        "  pass\n",
        "\n",
        "dog = Dog()\n",
        "cat = Cat()\n",
        "\n",
        "dog.run()\n",
        "cat.eat()"
      ],
      "execution_count": 0,
      "outputs": [
        {
          "output_type": "stream",
          "text": [
            "Animal is runing\n",
            "Eating meat\n"
          ],
          "name": "stdout"
        }
      ]
    },
    {
      "cell_type": "code",
      "metadata": {
        "id": "ulqXx0H7MY3l",
        "colab_type": "code",
        "outputId": "bfa6c4ac-9cf2-43f4-b2e9-9c7a9e1e6848",
        "colab": {
          "base_uri": "https://localhost:8080/",
          "height": 68
        }
      },
      "source": [
        "class Animal():\n",
        "  def __init__(self, name):\n",
        "    self.name = name\n",
        "  def greet(self):\n",
        "    print(\"Hello, I am an \", self.name)\n",
        "\n",
        "class Dog(Animal):  #继承的是第一个类__init__中的内容, Animal是parent class，God是child class。比如车是父类，子类是跑车，自行车\n",
        "  def greet(self):\n",
        "    print(\"Wangwang.., I am \", self.name)\n",
        "  def run(self):\n",
        "    print(\"I am runing\")\n",
        "\n",
        "animal = Animal(\"animal\")\n",
        "animal.greet()\n",
        "dog = Dog('dog')\n",
        "dog.greet()\n",
        "dog.run()"
      ],
      "execution_count": 0,
      "outputs": [
        {
          "output_type": "stream",
          "text": [
            "Hello, I am an  animal\n",
            "Wangwang.., I am  dog\n",
            "I am runing\n"
          ],
          "name": "stdout"
        }
      ]
    },
    {
      "cell_type": "markdown",
      "metadata": {
        "id": "jki1ZfhfRkIb",
        "colab_type": "text"
      },
      "source": [
        "简单的说父类定义最基础的attributes和methods，子类是父类的继承和延展。有了继承就可以实现多态"
      ]
    },
    {
      "cell_type": "markdown",
      "metadata": {
        "id": "jfAvWLYKSDCk",
        "colab_type": "text"
      },
      "source": [
        "### 多态"
      ]
    },
    {
      "cell_type": "code",
      "metadata": {
        "id": "v_refZLXSCOJ",
        "colab_type": "code",
        "colab": {}
      },
      "source": [
        "class Animal():\n",
        "  def __init__(self, name):\n",
        "    self.name = name\n",
        "  def greet(self):\n",
        "    print(f\"Hello, I am {self.name}.\")\n",
        "\n",
        "class Dog(Animal):\n",
        "  def greet(self):\n",
        "    print(f\"Wangwang.., I am {self.name}\")\n",
        "\n",
        "class Cat(Animal):\n",
        "  def greet(self):\n",
        "    print(f\"Miaomiao.., I am {self.name}\")\n",
        "\n",
        "def hello(animal):\n",
        "  animal.greet()"
      ],
      "execution_count": 0,
      "outputs": []
    },
    {
      "cell_type": "code",
      "metadata": {
        "id": "4_EpNOjVTVtG",
        "colab_type": "code",
        "outputId": "0652a383-6d34-4231-efed-35ed1ff1d854",
        "colab": {
          "base_uri": "https://localhost:8080/",
          "height": 51
        }
      },
      "source": [
        "dog = Dog('dog')\n",
        "hello(dog)\n",
        "cat = Cat('cat')\n",
        "hello(cat)"
      ],
      "execution_count": 0,
      "outputs": [
        {
          "output_type": "stream",
          "text": [
            "Wangwang.., I am dog\n",
            "Miaomiao.., I am cat\n"
          ],
          "name": "stdout"
        }
      ]
    },
    {
      "cell_type": "markdown",
      "metadata": {
        "id": "zt7Twq1nVh09",
        "colab_type": "text"
      },
      "source": [
        "如果不使用多态，就需要为每个调用的hello函数创建一个对应的猫狗"
      ]
    },
    {
      "cell_type": "markdown",
      "metadata": {
        "id": "D2G2pTiIXmTn",
        "colab_type": "text"
      },
      "source": [
        "方便调用不同类之间（同一个父类）不同的methods"
      ]
    },
    {
      "cell_type": "code",
      "metadata": {
        "id": "5QUEQM7fkm4z",
        "colab_type": "code",
        "outputId": "a0815624-b468-437e-9a8f-b0912e652eaa",
        "colab": {
          "base_uri": "https://localhost:8080/",
          "height": 51
        }
      },
      "source": [
        "# Dog和Cat继承了父类Animal的功能，即使在定义时什么都没干，也可以使用父类的功能\n",
        "class Animal():\n",
        "  def run(self):\n",
        "    print(\"Animal is running\")\n",
        "  def eat(self):\n",
        "    print(\"Eating meat\")\n",
        "\n",
        "class Dog(Animal):\n",
        "  def run(self):\n",
        "    print(\"Dog is running\")\n",
        "\n",
        "class Cat(Animal):\n",
        "  def eat(self):\n",
        "    print(\"Cat is eating\")\n",
        "\n",
        "dog = Dog()\n",
        "cat = Cat()\n",
        "\n",
        "dog.run()\n",
        "cat.eat()"
      ],
      "execution_count": 0,
      "outputs": [
        {
          "output_type": "stream",
          "text": [
            "Dog is running\n",
            "Cat is eating\n"
          ],
          "name": "stdout"
        }
      ]
    },
    {
      "cell_type": "markdown",
      "metadata": {
        "id": "sxEeA7-jlMfT",
        "colab_type": "text"
      },
      "source": [
        "当子类和父类都存在相同的run()方法时，我们说，子类的run()覆盖了父类的run()，在代码运行的时候，总是会调用子类的run()。这样，我们就获得了继承的另一个好处：多态。"
      ]
    },
    {
      "cell_type": "code",
      "metadata": {
        "id": "Jyh5A5RcqlJF",
        "colab_type": "code",
        "outputId": "84681234-b917-469a-a552-864f166bafc3",
        "colab": {
          "base_uri": "https://localhost:8080/",
          "height": 34
        }
      },
      "source": [
        "c = Cat()\n",
        "isinstance(c, Cat) # c是Cat类型\n",
        "isinstance(c, Animal) # c同时也是Animal的类型，因为class Cat继承了class Animal"
      ],
      "execution_count": 0,
      "outputs": [
        {
          "output_type": "execute_result",
          "data": {
            "text/plain": [
              "True"
            ]
          },
          "metadata": {
            "tags": []
          },
          "execution_count": 16
        }
      ]
    },
    {
      "cell_type": "code",
      "metadata": {
        "id": "KX2ak_lrtGO4",
        "colab_type": "code",
        "outputId": "b31eae85-267f-4948-f6f7-306ae8364558",
        "colab": {
          "base_uri": "https://localhost:8080/",
          "height": 51
        }
      },
      "source": [
        "def run_twice(animal):\n",
        "  animal.run()\n",
        "  animal.run()\n",
        "\n",
        "#当传入Animal的object时\n",
        "run_twice(Animal())"
      ],
      "execution_count": 0,
      "outputs": [
        {
          "output_type": "stream",
          "text": [
            "Animal is running\n",
            "Animal is running\n"
          ],
          "name": "stdout"
        }
      ]
    },
    {
      "cell_type": "code",
      "metadata": {
        "id": "FW5Gsm5MtgmA",
        "colab_type": "code",
        "outputId": "28e3d485-7997-454d-ce42-b7da23f2624e",
        "colab": {
          "base_uri": "https://localhost:8080/",
          "height": 51
        }
      },
      "source": [
        "# 如果再定义一个Animal的子类\n",
        "class Tortoise(Animal):\n",
        "  def run(self):\n",
        "    print(\"Tortoise is running slowly...\")\n",
        "\n",
        "# 当调用run_twice()时，传入Tortoise的实例\n",
        "run_twice(Tortoise())"
      ],
      "execution_count": 0,
      "outputs": [
        {
          "output_type": "stream",
          "text": [
            "Tortoise is running slowly...\n",
            "Tortoise is running slowly...\n"
          ],
          "name": "stdout"
        }
      ]
    },
    {
      "cell_type": "markdown",
      "metadata": {
        "id": "4bZcSm2tvcGb",
        "colab_type": "text"
      },
      "source": [
        "当新增一个Animal的子类时，不需要对run_twice()做任何修改，实际上，任何依赖Animal作为参数的函数或者method都可以不加修改的正常运行，原因就在于多态。\n",
        "\n",
        "多态的好处是当我们需要传入Dog，Cat，Tortoise时，我们只需要接受clas Animal就可以了，因为他们都是class Animal，然后按照Animal类型进行操作即可。由于class Animal类型有run()方法，因此传入的任意类型只要是class Animal或者子类，就会自动调用实际类型的run()的方法，这就是多态的意思。\n",
        "\n",
        "对于一个变量，我们只需要知道它是Animal类型，无需确切地知道它的子类型，就可以放心地调用run()方法，而具体调用的run()方法是作用在Animal、Dog、Cat还是Tortoise对象上，由运行时该对象的确切类型决定，这就是多态真正的威力：调用方只管调用，不管细节，而当我们新增一种Animal的子类时，只要确保run()方法编写正确，不用管原来的代码是如何调用的。这就是著名的“开闭”原则：对扩展开放：允许新增Animal子类；对修改封闭：不需要修改依赖Animal类型的run_twice()等函数。\n",
        "\n",
        "继承还可以一级一级地继承下来，就好比从爷爷到爸爸、再到儿子这样的关系。而任何类，最终都可以追溯到根类object，这些继承关系看上去就像一颗倒着的树。"
      ]
    },
    {
      "cell_type": "markdown",
      "metadata": {
        "id": "ILJNi-giYc90",
        "colab_type": "text"
      },
      "source": [
        "## 访问限制"
      ]
    },
    {
      "cell_type": "code",
      "metadata": {
        "id": "1A7vjuSHYgEH",
        "colab_type": "code",
        "outputId": "e6bfb235-94e9-4579-92df-cf2083193847",
        "colab": {
          "base_uri": "https://localhost:8080/",
          "height": 198
        }
      },
      "source": [
        "class Animal():\n",
        "  def __init__(self, name):\n",
        "    self.__name = name   #在名字前加入__\n",
        "  def greet():\n",
        "    print(f\"Hello, I am \", self.__name)\n",
        "\n",
        "animal = Animal('al')\n",
        "animal.__name"
      ],
      "execution_count": 0,
      "outputs": [
        {
          "output_type": "error",
          "ename": "AttributeError",
          "evalue": "ignored",
          "traceback": [
            "\u001b[0;31m---------------------------------------------------------------------------\u001b[0m",
            "\u001b[0;31mAttributeError\u001b[0m                            Traceback (most recent call last)",
            "\u001b[0;32m<ipython-input-18-67367fc51b8a>\u001b[0m in \u001b[0;36m<module>\u001b[0;34m()\u001b[0m\n\u001b[1;32m      6\u001b[0m \u001b[0;34m\u001b[0m\u001b[0m\n\u001b[1;32m      7\u001b[0m \u001b[0manimal\u001b[0m \u001b[0;34m=\u001b[0m \u001b[0mAnimal\u001b[0m\u001b[0;34m(\u001b[0m\u001b[0;34m'al'\u001b[0m\u001b[0;34m)\u001b[0m\u001b[0;34m\u001b[0m\u001b[0;34m\u001b[0m\u001b[0m\n\u001b[0;32m----> 8\u001b[0;31m \u001b[0manimal\u001b[0m\u001b[0;34m.\u001b[0m\u001b[0m__name\u001b[0m\u001b[0;34m\u001b[0m\u001b[0;34m\u001b[0m\u001b[0m\n\u001b[0m",
            "\u001b[0;31mAttributeError\u001b[0m: 'Animal' object has no attribute '__name'"
          ]
        }
      ]
    },
    {
      "cell_type": "markdown",
      "metadata": {
        "id": "vy4WP9TW0UCP",
        "colab_type": "text"
      },
      "source": [
        "## Practice of Class"
      ]
    },
    {
      "cell_type": "markdown",
      "metadata": {
        "id": "lTJgfudp0Zgu",
        "colab_type": "text"
      },
      "source": [
        "1. Write a program to convert an integer to a roman numeral."
      ]
    },
    {
      "cell_type": "code",
      "metadata": {
        "id": "bCMpkLAr0iV-",
        "colab_type": "code",
        "outputId": "75e022dc-b741-475e-dd07-cf62d943dbdd",
        "colab": {
          "base_uri": "https://localhost:8080/",
          "height": 51
        }
      },
      "source": [
        "class Convert_Roman:\n",
        "    def int_to_Roman(self, num):\n",
        "      val = [1000, 900, 500, 400,\n",
        "             100, 90, 50, 40,\n",
        "             10, 9, 5, 4,\n",
        "             1]\n",
        "      syb = [\"M\", \"CM\", \"D\", \"CD\",\n",
        "             \"C\", \"XC\", \"L\", \"XL\",\n",
        "             \"X\", \"IX\", \"V\", \"IV\",\n",
        "             \"I\"]\n",
        "      roman_num = ''\n",
        "      i = 0\n",
        "      while num > 0:\n",
        "        for _ in range(num // val[i]):\n",
        "          roman_num += syb[i]\n",
        "          num -= val[i]\n",
        "        i += 1\n",
        "      return roman_num\n",
        "\n",
        "print(Convert_Roman().int_to_Roman(1))\n",
        "print(Convert_Roman().int_to_Roman(4000))"
      ],
      "execution_count": 0,
      "outputs": [
        {
          "output_type": "stream",
          "text": [
            "I\n",
            "MMMM\n"
          ],
          "name": "stdout"
        }
      ]
    },
    {
      "cell_type": "markdown",
      "metadata": {
        "id": "tw0MWsaq2gl7",
        "colab_type": "text"
      },
      "source": [
        "2. Weite a program to find validity of a string of parentheses, (),{},and []. These brackets must be close in the correct order."
      ]
    },
    {
      "cell_type": "code",
      "metadata": {
        "id": "7wkyBJRa2yyC",
        "colab_type": "code",
        "outputId": "2c56b16d-5644-4a39-bf5f-ebb1b34014c1",
        "colab": {
          "base_uri": "https://localhost:8080/",
          "height": 68
        }
      },
      "source": [
        "class Parenthese:\n",
        "  def is_valid_parenthese(self, str1):\n",
        "    stack, pchar = [], {\"(\":\")\", \"{\":\"}\", \"[\":\"]\"}\n",
        "    for parenthese in str1:\n",
        "      if parenthese in pchar:\n",
        "        stack.append(parenthese)\n",
        "      elif len(stack) == 0 or pchar[stack.pop()] != parenthese:\n",
        "        return False\n",
        "    return len(stack) == 0\n",
        "\n",
        "print(Parenthese().is_valid_parenthese(\"(){}{}[]\"))\n",
        "print(Parenthese().is_valid_parenthese(\"{}[()]\"))\n",
        "print(Parenthese().is_valid_parenthese(\"{}[)]\"))"
      ],
      "execution_count": 0,
      "outputs": [
        {
          "output_type": "stream",
          "text": [
            "True\n",
            "True\n",
            "False\n"
          ],
          "name": "stdout"
        }
      ]
    },
    {
      "cell_type": "markdown",
      "metadata": {
        "id": "tSoTi7CK4MC3",
        "colab_type": "text"
      },
      "source": [
        "3. Write a program named Rectangle constructed by a length and width and a method which will compute the area of a rectangle."
      ]
    },
    {
      "cell_type": "code",
      "metadata": {
        "id": "JhedOd0F4XpR",
        "colab_type": "code",
        "outputId": "51ee0bcd-afbe-4266-c023-22439cd12f5c",
        "colab": {
          "base_uri": "https://localhost:8080/",
          "height": 34
        }
      },
      "source": [
        "class Rectangle():\n",
        "  def __init__(self, l, w):\n",
        "    self.length = l\n",
        "    self.width = w\n",
        "  def rectangle_area(self):\n",
        "    return self.length * self.width\n",
        "\n",
        "newRectangle = Rectangle(12, 10)\n",
        "print(newRectangle.rectangle_area())"
      ],
      "execution_count": 0,
      "outputs": [
        {
          "output_type": "stream",
          "text": [
            "120\n"
          ],
          "name": "stdout"
        }
      ]
    },
    {
      "cell_type": "markdown",
      "metadata": {
        "id": "zGYpQOBF5Coj",
        "colab_type": "text"
      },
      "source": [
        "4. Write a program named Circle constructed by a radius and two methods which will compute the area and the perimeter of a circle."
      ]
    },
    {
      "cell_type": "code",
      "metadata": {
        "id": "Is_3cngj5Nlb",
        "colab_type": "code",
        "outputId": "42c6b08d-6382-43c2-9c7b-05a9354527e9",
        "colab": {
          "base_uri": "https://localhost:8080/",
          "height": 51
        }
      },
      "source": [
        "class Circle():\n",
        "  def __init__(self, r):\n",
        "    self.radius = r\n",
        "  def area(self):\n",
        "    return 3.14 * (self.radius ** 2)\n",
        "  def perimeter(self):\n",
        "    return 2 * 3.14 * self.radius\n",
        "\n",
        "NewCircle = Circle(8)\n",
        "print(NewCircle.area())\n",
        "print(NewCircle.perimeter())"
      ],
      "execution_count": 0,
      "outputs": [
        {
          "output_type": "stream",
          "text": [
            "200.96\n",
            "50.24\n"
          ],
          "name": "stdout"
        }
      ]
    },
    {
      "cell_type": "markdown",
      "metadata": {
        "id": "93nlFDdJ6e5t",
        "colab_type": "text"
      },
      "source": [
        "5. Write a program which has two methods \"get_String\" and \"print_String\". \"get_String\" accept a string from the user and \"print_String\" print the string in upper case. "
      ]
    },
    {
      "cell_type": "code",
      "metadata": {
        "id": "u_Bu2x0d66Zo",
        "colab_type": "code",
        "outputId": "351d5238-b087-48dd-a6b9-6cf4cea99dd6",
        "colab": {
          "base_uri": "https://localhost:8080/",
          "height": 51
        }
      },
      "source": [
        "class IOString():\n",
        "  def __init__(self):\n",
        "    self.str1 = \"\"\n",
        "  def get_String(self):\n",
        "    self.str1 = input()\n",
        "  def print_String(self):\n",
        "    print(self.str1.upper())\n",
        "\n",
        "str1 = IOString()\n",
        "str1.get_String()\n",
        "str1.print_String()"
      ],
      "execution_count": 0,
      "outputs": [
        {
          "output_type": "stream",
          "text": [
            "sd;fiapou\n",
            "SD;FIAPOU\n"
          ],
          "name": "stdout"
        }
      ]
    }
  ]
}