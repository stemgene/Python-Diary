{
  "nbformat": 4,
  "nbformat_minor": 0,
  "metadata": {
    "colab": {
      "name": "Pandas_Operation.ipynb",
      "provenance": [],
      "include_colab_link": true
    },
    "kernelspec": {
      "name": "python3",
      "display_name": "Python 3"
    }
  },
  "cells": [
    {
      "cell_type": "markdown",
      "metadata": {
        "id": "view-in-github",
        "colab_type": "text"
      },
      "source": [
        "<a href=\"https://colab.research.google.com/github/stemgene/Python-Diary/blob/master/Pandas_Operation.ipynb\" target=\"_parent\"><img src=\"https://colab.research.google.com/assets/colab-badge.svg\" alt=\"Open In Colab\"/></a>"
      ]
    },
    {
      "cell_type": "markdown",
      "metadata": {
        "id": "B0zVr2-cW4Ui",
        "colab_type": "text"
      },
      "source": [
        "# 1. Create DadaFrame"
      ]
    },
    {
      "cell_type": "code",
      "metadata": {
        "id": "4U6pxeERWwbg",
        "colab_type": "code",
        "colab": {}
      },
      "source": [
        ""
      ],
      "execution_count": 0,
      "outputs": []
    },
    {
      "cell_type": "markdown",
      "metadata": {
        "id": "x47avRNUXAc6",
        "colab_type": "text"
      },
      "source": [
        "# 2. Edit DadaFrame\n",
        "\n",
        "#### Delete certain row"
      ]
    },
    {
      "cell_type": "code",
      "metadata": {
        "id": "WqQb_gVkXOg_",
        "colab_type": "code",
        "colab": {}
      },
      "source": [
        "cluster_df.drop(cluster_df.index[cluster_df['Neighbourhood'] == 'PARQUE INDUSTRIAL'], inplace = True)"
      ],
      "execution_count": 0,
      "outputs": []
    },
    {
      "cell_type": "markdown",
      "metadata": {
        "id": "IzELlrUvXZL6",
        "colab_type": "text"
      },
      "source": [
        "### Insert columns"
      ]
    },
    {
      "cell_type": "code",
      "metadata": {
        "id": "FITjE6rXXX1q",
        "colab_type": "code",
        "colab": {}
      },
      "source": [
        "df.insert(6, \"Date Difference\", date_difference)"
      ],
      "execution_count": 0,
      "outputs": []
    },
    {
      "cell_type": "markdown",
      "metadata": {
        "id": "OXxETxLRXi0y",
        "colab_type": "text"
      },
      "source": [
        "# 3. Select from DataFrame\n",
        "\n",
        "### Iterate rows and columns\n",
        "https://thispointer.com/pandas-loop-or-iterate-over-all-or-certain-columns-of-a-dataframe/"
      ]
    },
    {
      "cell_type": "code",
      "metadata": {
        "id": "a8IvrnYvX257",
        "colab_type": "code",
        "colab": {}
      },
      "source": [
        "    Name  Age      City\n",
        "a   jack   34    Sydney\n",
        "b   Riti   31     Delhi\n",
        "c   Aadi   16  New York\n",
        "d  Mohit   32     Delhi\n",
        "\n",
        "# Iterate over two given columns only from the dataframe\n",
        "for column in df[['Name', 'City']]:\n",
        "   # Select column contents by column name using [] operator\n",
        "   columnSeriesObj = df[column]\n",
        "   print('Colunm Name : ', column)\n",
        "   print('Column Contents : ', columnSeriesObj.values)\n",
        "\n",
        "\"\"\"Outputs:\n",
        "Colunm Name :  Name\n",
        "Column Contents :  ['jack' 'Riti' 'Aadi' 'Mohit']\n",
        "Colunm Name :  City\n",
        "Column Contents :  ['Sydney' 'Delhi' 'New York' 'Delhi']\n",
        "\"\"\""
      ],
      "execution_count": 0,
      "outputs": []
    },
    {
      "cell_type": "markdown",
      "metadata": {
        "id": "ZQU5pauuqdw8",
        "colab_type": "text"
      },
      "source": [
        "Find values with conditions"
      ]
    },
    {
      "cell_type": "code",
      "metadata": {
        "id": "rLSpSObkmyZd",
        "colab_type": "code",
        "colab": {}
      },
      "source": [
        "  New_Visit\tNoshow_rate\n",
        "35  \t0\t        1.0\n",
        "36   \t1\t        0.0\n",
        "37\t  1\t        0.0\n",
        "38\t  0\t        1.0\n",
        "39\t  1\t        0.0\n",
        "40    0         0.0\n",
        "\n",
        "status = []\n",
        "for index, row in noshowdf.iterrows(): \n",
        "\"\"\"\n",
        "index = 0, \n",
        "row = \n",
        "New_Visit 1 \n",
        "Noshow_rate 0\n",
        "If want specific value or row, can use either \n",
        "row[\"New_Visit\"] or\n",
        "row[0]\n",
        "\"\"\"\n",
        "  if row[0] == 1: \n",
        "    status.append('New Patient')\n",
        "  else:\n",
        "    if row[1] == 0.0:\n",
        "      status.append('Well-behaved Patient')\n",
        "    else: # noshow_rate > 0\n",
        "      status.append(\"have no show history patient\")\n",
        "\n",
        "\"\"\"Outputs:\n",
        "['have no show history patient',\n",
        " 'New Patient',\n",
        " 'New Patient',\n",
        " 'have no show history patient',\n",
        " 'New Patient',\n",
        " 'Well-behaved Patient']\n",
        " \"\"\""
      ],
      "execution_count": 0,
      "outputs": []
    },
    {
      "cell_type": "markdown",
      "metadata": {
        "id": "tWUjMbHvrSvj",
        "colab_type": "text"
      },
      "source": [
        "# 4. Cell's Value operation\n",
        "\n",
        "### Groupby"
      ]
    },
    {
      "cell_type": "code",
      "metadata": {
        "id": "qXUmrNRurety",
        "colab_type": "code",
        "colab": {}
      },
      "source": [
        "  New_Visit\tNoshow_rate\tStatus\n",
        "37\t1\t          0.0\t    New Patient\n",
        "38\t0\t          1.0\t    have no show history patient\n",
        "39\t1\t          0.0\t    New Patient\n",
        "\n",
        "noshowdf.groupby(\"Status\").count()\n",
        "\n",
        "\"\"\"Outputs:\n",
        "Status\t                        New_Visit\tNoshow_rate\n",
        "New Patient\t                       61858\t61858\n",
        "Well-behaved Patient\t             28291\t28291\n",
        "have no show history patient\t     14191\t14191\n",
        "\"\"\""
      ],
      "execution_count": 0,
      "outputs": []
    }
  ]
}