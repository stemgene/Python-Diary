{
  "nbformat": 4,
  "nbformat_minor": 0,
  "metadata": {
    "colab": {
      "name": "File_Operation.ipynb",
      "provenance": [],
      "include_colab_link": true
    },
    "kernelspec": {
      "name": "python3",
      "display_name": "Python 3"
    }
  },
  "cells": [
    {
      "cell_type": "markdown",
      "metadata": {
        "id": "view-in-github",
        "colab_type": "text"
      },
      "source": [
        "<a href=\"https://colab.research.google.com/github/stemgene/Python-Diary/blob/master/File_Operation.ipynb\" target=\"_parent\"><img src=\"https://colab.research.google.com/assets/colab-badge.svg\" alt=\"Open In Colab\"/></a>"
      ]
    },
    {
      "cell_type": "markdown",
      "metadata": {
        "id": "4ZyVfnLD-UhI",
        "colab_type": "text"
      },
      "source": [
        "### Load csv from google drive"
      ]
    },
    {
      "cell_type": "code",
      "metadata": {
        "id": "he456QsI-ZCZ",
        "colab_type": "code",
        "colab": {}
      },
      "source": [
        "with open('/gdrive/My Drive/UR/DSC481/Project/towns.csv') as csv_file:\n",
        "  next(csv_file)\n",
        "  csv_reader = csv.reader(csv_file, delimiter=',')\n",
        "  towns = {row[0]:[int(row[1]),float(row[2]),float(row[3])] for row in csv_reader} # load file is string type, need to transform float\n",
        "##  towns = pd.DataFrame(csv_reader4, columns=attributes)"
      ],
      "execution_count": 0,
      "outputs": []
    },
    {
      "cell_type": "code",
      "metadata": {
        "id": "KTtIzhyVN03U",
        "colab_type": "code",
        "colab": {}
      },
      "source": [
        "stocks = pd.read_csv(\"/content/drive/My Drive/UR/DSC440_Data_Mining/Project/Data/S&P500.csv\", parse_dates=['Date']).set_index('Date')\n",
        "df = stocks.loc[:, ['Adj Close', 'Volume']].copy()\n",
        "df.rename(columns={'Adj Close': \"price\"}, inplace=True)"
      ],
      "execution_count": 0,
      "outputs": []
    },
    {
      "cell_type": "markdown",
      "metadata": {
        "id": "ptaK1j1c-Dfn",
        "colab_type": "text"
      },
      "source": [
        "### export dataframe to google drive"
      ]
    },
    {
      "cell_type": "code",
      "metadata": {
        "id": "0AXMjK0j9r_n",
        "colab_type": "code",
        "colab": {}
      },
      "source": [
        "#towns_df = pd.DataFrame(towns.values(), index=towns.keys(), columns=['Frequency', \"lan\", \"lon\"])\n",
        "cluster_kmeans.to_csv('cluster_kmeans15.csv')\n",
        "!cp cluster_kmeans15.csv /gdrive/My\\ Drive/UR/DSC481/Project/cluster_kmeans15.csv"
      ],
      "execution_count": 0,
      "outputs": []
    }
  ]
}