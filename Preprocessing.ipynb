{
  "nbformat": 4,
  "nbformat_minor": 0,
  "metadata": {
    "colab": {
      "name": "Preprocessing.ipynb",
      "provenance": [],
      "collapsed_sections": [],
      "machine_shape": "hm",
      "include_colab_link": true
    },
    "kernelspec": {
      "name": "python3",
      "display_name": "Python 3"
    }
  },
  "cells": [
    {
      "cell_type": "markdown",
      "metadata": {
        "id": "view-in-github",
        "colab_type": "text"
      },
      "source": [
        "<a href=\"https://colab.research.google.com/github/stemgene/Python-Diary/blob/master/Preprocessing.ipynb\" target=\"_parent\"><img src=\"https://colab.research.google.com/assets/colab-badge.svg\" alt=\"Open In Colab\"/></a>"
      ]
    },
    {
      "cell_type": "code",
      "metadata": {
        "id": "n7Q1e2Wz7jz9",
        "colab_type": "code",
        "outputId": "47bfff45-ea48-4a04-a4d7-e20d75e42cb3",
        "colab": {
          "base_uri": "https://localhost:8080/",
          "height": 122
        }
      },
      "source": [
        "# Import PyDrive and associated libraries.\n",
        "# This only needs to be done once per notebook.\n",
        "from pydrive.auth import GoogleAuth\n",
        "from pydrive.drive import GoogleDrive\n",
        "from google.colab import auth\n",
        "from oauth2client.client import GoogleCredentials\n",
        "from google.colab import drive\n",
        "drive.mount('/gdrive')\n",
        "\n",
        "import pandas as pd\n",
        "import numpy as np\n",
        "import csv\n",
        "import pandas_profiling\n",
        "import matplotlib.pyplot as plt\n",
        "%matplotlib inline"
      ],
      "execution_count": 1,
      "outputs": [
        {
          "output_type": "stream",
          "text": [
            "Go to this URL in a browser: https://accounts.google.com/o/oauth2/auth?client_id=947318989803-6bn6qk8qdgf4n4g3pfee6491hc0brc4i.apps.googleusercontent.com&redirect_uri=urn%3aietf%3awg%3aoauth%3a2.0%3aoob&response_type=code&scope=email%20https%3a%2f%2fwww.googleapis.com%2fauth%2fdocs.test%20https%3a%2f%2fwww.googleapis.com%2fauth%2fdrive%20https%3a%2f%2fwww.googleapis.com%2fauth%2fdrive.photos.readonly%20https%3a%2f%2fwww.googleapis.com%2fauth%2fpeopleapi.readonly\n",
            "\n",
            "Enter your authorization code:\n",
            "··········\n",
            "Mounted at /gdrive\n"
          ],
          "name": "stdout"
        }
      ]
    },
    {
      "cell_type": "code",
      "metadata": {
        "id": "gKcYazKJAuiX",
        "colab_type": "code",
        "outputId": "fff6d6e5-be11-4dfe-faae-387fea3e05bf",
        "colab": {
          "base_uri": "https://localhost:8080/",
          "height": 544
        }
      },
      "source": [
        "attributes = ['PatientId', 'AppointmentID','Gender', 'ScheduledDay', 'AppointmentDay', 'Age', 'Neighbourhood', 'Scholarship', 'Hipertension', 'Diabetes', 'Alcoholism', 'Handcap', 'SMS_received', 'No-show']\n",
        "with open('/gdrive/My Drive/UR/DSC481/Project/noshowdata.csv') as csv_file:\n",
        "  next(csv_file)\n",
        "  csv_reader = csv.reader(csv_file, delimiter=',')\n",
        "  df = pd.DataFrame(csv_reader, columns=attributes)\n",
        "\n",
        "\n",
        "\n",
        "\n",
        "# Insert the 5th column that indicate the weekday of AppointmentDay\n",
        "# dt.weekday: Monday-0, Friday-4, Sunday-6\n",
        "df.insert(5, \"Appoint Weekday\", df.loc[:, 'AppointmentDay'].apply(np.datetime64).dt.weekday)\n",
        "\n",
        "# Transform str to pd.datestamp and date form\n",
        "df.loc[:, 'ScheduledDay'] = df.loc[:, 'ScheduledDay'].apply(np.datetime64).dt.date\n",
        "df.loc[:, 'AppointmentDay'] = df.loc[:, 'AppointmentDay'].apply(np.datetime64).dt.date\n",
        "\n",
        "# Insert the 6th column that indicate the difference between scheduled date and appointment date\n",
        "date_difference = []\n",
        "for i in range(len(df.loc[:, 'ScheduledDay'])):\n",
        "  diff = (df.loc[:, 'AppointmentDay'][i]-df.loc[:, 'ScheduledDay'][i]).days\n",
        "  date_difference.append(diff)\n",
        "df.insert(6, \"Date Difference\", date_difference)\n",
        "\n",
        "#cluster\n",
        "drop=['ILHAS OCEÂNICAS DE TRINDADE', 'PARQUE INDUSTRIAL']\n",
        "df = df[~df['Neighbourhood'].isin(drop)]\n",
        "cl15 = pd.read_csv('/gdrive/My Drive/UR/DSC481/Project/cluster_kmeans15.csv')[['K-means cluster']]\n",
        "cl15.rename(columns={'K-means cluster': 'Cluster'}, inplace=True)\n",
        "df = df.reset_index(drop=True)\n",
        "df =  pd.concat([df, cl15], axis=1)\n",
        "print('cl15.shape: ',cl15.shape, \"df.shape: \", df.shape)\n",
        "\n",
        "\n",
        "df = df[df['Date Difference'] >= 0]\n",
        "df.info(verbose=True)\n",
        "\n",
        "\n",
        "\n",
        "\n",
        "# missing rumber&rate check\n",
        "Miss_rate= pd.DataFrame(columns=[\"Missnum\",\"Missrate\"] )\n",
        "\n",
        "for i in df.columns:\n",
        "    \n",
        "    mis=df[i].isnull().sum()\n",
        "    r=(mis /len(df)) * 100\n",
        "    Miss_rate.loc[i,'Missnum']=mis\n",
        "    Miss_rate.loc[i,'Missrate']=r\n",
        "    \n",
        "Miss_thres= Miss_rate.sort_values(by = \"Missrate\", ascending=False).reset_index(drop=False)\n",
        "Miss_thres\n",
        "\n",
        "\n",
        "\n",
        "\n",
        "# one-hot coding\n",
        "df['Male'] = np.where(df['Gender']== \"M\", 1, 0)\n",
        "df['Label'] = np.where(df['No-show']==\"Yes\", 1, 0)\n",
        "cat_columns = ['Handcap','Appoint Weekday', 'Cluster']\n",
        "df = pd.get_dummies(df, prefix_sep=\"__\",\n",
        "                              columns=cat_columns)\n",
        "print(df.head())\n",
        "\n"
      ],
      "execution_count": 11,
      "outputs": [
        {
          "output_type": "stream",
          "text": [
            "cl15.shape:  (110524, 1) df.shape:  (110524, 17)\n",
            "<class 'pandas.core.frame.DataFrame'>\n",
            "Int64Index: 110519 entries, 0 to 110523\n",
            "Data columns (total 17 columns):\n",
            "PatientId          110519 non-null object\n",
            "AppointmentID      110519 non-null object\n",
            "Gender             110519 non-null object\n",
            "ScheduledDay       110519 non-null object\n",
            "AppointmentDay     110519 non-null object\n",
            "Appoint Weekday    110519 non-null int64\n",
            "Date Difference    110519 non-null int64\n",
            "Age                110519 non-null object\n",
            "Neighbourhood      110519 non-null object\n",
            "Scholarship        110519 non-null object\n",
            "Hipertension       110519 non-null object\n",
            "Diabetes           110519 non-null object\n",
            "Alcoholism         110519 non-null object\n",
            "Handcap            110519 non-null object\n",
            "SMS_received       110519 non-null object\n",
            "No-show            110519 non-null object\n",
            "Cluster            110519 non-null int64\n",
            "dtypes: int64(3), object(14)\n",
            "memory usage: 15.2+ MB\n",
            "         PatientId AppointmentID Gender  ... Cluster__12 Cluster__13  Cluster__14\n",
            "0   29872499824296       5642903      F  ...           0           0            0\n",
            "1  558997776694438       5642503      M  ...           0           0            0\n",
            "2    4262962299951       5642549      F  ...           0           0            0\n",
            "3     867951213174       5642828      F  ...           0           0            0\n",
            "4    8841186448183       5642494      F  ...           0           0            0\n",
            "\n",
            "[5 rows x 42 columns]\n"
          ],
          "name": "stdout"
        }
      ]
    },
    {
      "cell_type": "code",
      "metadata": {
        "id": "nr-4zsvf_RXQ",
        "colab_type": "code",
        "outputId": "f025f597-d77c-44f3-bf6c-71cc52dc1515",
        "colab": {
          "base_uri": "https://localhost:8080/",
          "height": 317
        }
      },
      "source": [
        "# age\n",
        "# 28866(26%) patients are under 18, probably not appropriate to drop them\n",
        "df['under18'] =  np.where(df['Age'].astype(int)>18, \"no\", \"yes\" )\n",
        "print(df['under18'].value_counts())\n",
        "\n",
        "# delete rows with age<0\n",
        "df.drop(df[df['Age'].astype(int) < 0].index, inplace = True) \n",
        "\n",
        "hist = df['Age'].astype(int).hist(bins=100)\n",
        "hist\n",
        "\n",
        "# normalize (instead of grouping, i remember back in class jack said grouping age will cause information loss)\n",
        "from sklearn import preprocessing\n",
        "age = df[['Age']].values.astype(int)\n",
        "min_max_scaler = preprocessing.MinMaxScaler()\n",
        "df['age_scaled'] =  min_max_scaler.fit_transform(age)\n",
        " \n",
        "\n"
      ],
      "execution_count": 8,
      "outputs": [
        {
          "output_type": "stream",
          "text": [
            "no     81654\n",
            "yes    28865\n",
            "Name: under18, dtype: int64\n"
          ],
          "name": "stdout"
        },
        {
          "output_type": "display_data",
          "data": {
            "image/png": "[encoded data removed]",
            "text/plain": [
              "<Figure size 432x288 with 1 Axes>"
            ]
          },
          "metadata": {
            "tags": []
          }
        }
      ]
    },
    {
      "cell_type": "markdown",
      "metadata": {
        "id": "pVX0pkAsjXXm",
        "colab_type": "text"
      },
      "source": [
        "Noshow History"
      ]
    },
    {
      "cell_type": "code",
      "metadata": {
        "id": "VwyHvnAZjMhP",
        "colab_type": "code",
        "colab": {
          "base_uri": "https://localhost:8080/",
          "height": 636
        },
        "outputId": "d7595ef1-b062-48a3-d198-1c5ff3dac8e5"
      },
      "source": [
        "## check\n",
        "df['Label'].value_counts()\n",
        "## distinct PatientId count\n",
        "len(df['PatientId'].unique())\n",
        "\n",
        "df_visit=df.sort_values(by=['PatientId','ScheduledDay'])\n",
        "\n",
        "##  visit\n",
        "df_visit['Visit_Nth']=df_visit.groupby('PatientId').cumcount()+1\n",
        "\n",
        "df_visit['New_Visit']=df_visit['Visit_Nth'].apply(lambda x: 1 if x==1 else 0)\n",
        "\n",
        "df_visit['Noshow_cumsum']=df_visit.groupby('PatientId')['Label'].cumsum()\n",
        "\n",
        "### noshow rate \n",
        "def noshow_rate(df):\n",
        "    if df['Visit_Nth']==1:\n",
        "        rate = 0\n",
        "        \n",
        "    elif df['Visit_Nth']>1:\n",
        "        if df['Label']==1:\n",
        "            rate = (df['Noshow_cumsum']-1 )/ (df['Visit_Nth'] -1 )\n",
        "        else:\n",
        "            rate = (df['Noshow_cumsum']  )/ (df['Visit_Nth'] -1 )       \n",
        "    return rate\n",
        "\n",
        "df_visit['Noshow_rate']= df_visit.apply(noshow_rate, axis=1)\n",
        "\n",
        "## check\n",
        "df_visit.head(20)\n",
        "\n",
        "## max\n",
        "df_max= pd.DataFrame(df_visit.groupby('PatientId')['Visit_Nth'].max()).reset_index()\n",
        "df_max = df_max.rename(columns={'Visit_Nth':'Visit_Nth_max'} )\n",
        "df_max.head()\n",
        "\n",
        "## check unique patients\n",
        "print(df_max.shape,\"\\n\",df_max['Visit_Nth_max'].describe())\n",
        "df_max['Visit_Nth_max'].value_counts()\n",
        "\n",
        "## hist\n",
        "df_max.hist(bins=88,label='Visit_Nth_max');\n",
        "plt.xlabel(\"Visit_Nth_max\")\n",
        "plt.ylabel(\"Patients\")\n",
        "plt.title(\"Distribution of Visit_Nth_max\")\n",
        "plt.show()\n",
        "\n",
        "## outlier defined\n",
        "cut_list = [0, 0.25, 0.5, 0.75, 0.85, 0.9, 0.95, 0.99, 1]\n",
        "cut_Visit_Nth_max = df_max['Visit_Nth_max'].quantile(q=cut_list)\n",
        "print(cut_Visit_Nth_max)\n",
        "## decide to drop top 1%: keep Visit_Nth_max <=8\n",
        "\n",
        "## merge\n",
        "df_fin= df_visit.merge(df_max, on='PatientId', how='left')\n",
        "df_fin.shape\n",
        "\n",
        "## check\n",
        "df_fin.tail(10)\n",
        "\n",
        "## check\n",
        "(df_fin[df_fin.Noshow_rate>0 & (df_fin.Noshow_rate<1)]).tail(10)\n",
        "\n",
        "## check\n",
        "df_fin[df_fin.PatientId=='99966898398164']\n",
        "\n",
        "df= df_fin.copy()\n",
        "\n",
        "## drop outlier\n",
        "df= df[df['Visit_Nth_max']<=8]\n",
        "\n",
        "## only keep Noshow_rate and New_Visit\n",
        "df = df.drop(['Visit_Nth','Noshow_cumsum','Visit_Nth_max'], axis=1)\n"
      ],
      "execution_count": 9,
      "outputs": [
        {
          "output_type": "stream",
          "text": [
            "(62295, 2) \n",
            " count    62295.000000\n",
            "mean         1.774107\n",
            "std          1.770265\n",
            "min          1.000000\n",
            "25%          1.000000\n",
            "50%          1.000000\n",
            "75%          2.000000\n",
            "max         88.000000\n",
            "Name: Visit_Nth_max, dtype: float64\n"
          ],
          "name": "stdout"
        },
        {
          "output_type": "display_data",
          "data": {
            "image/png": "[encoded data removed]",
            "text/plain": [
              "<Figure size 432x288 with 1 Axes>"
            ]
          },
          "metadata": {
            "tags": []
          }
        },
        {
          "output_type": "stream",
          "text": [
            "0.00     1.0\n",
            "0.25     1.0\n",
            "0.50     1.0\n",
            "0.75     2.0\n",
            "0.85     3.0\n",
            "0.90     3.0\n",
            "0.95     4.0\n",
            "0.99     8.0\n",
            "1.00    88.0\n",
            "Name: Visit_Nth_max, dtype: float64\n"
          ],
          "name": "stdout"
        }
      ]
    },
    {
      "cell_type": "markdown",
      "metadata": {
        "id": "QxexhMaKdE9b",
        "colab_type": "text"
      },
      "source": [
        "# Splittig data by PatientId,  Over-sampling using SMOTE\n",
        "\n",
        "\n"
      ]
    },
    {
      "cell_type": "code",
      "metadata": {
        "id": "OjPpwfPBdCjZ",
        "colab_type": "code",
        "outputId": "701f7d61-2eeb-4ea4-d210-f4da5d75ba5b",
        "colab": {
          "base_uri": "https://localhost:8080/",
          "height": 531
        }
      },
      "source": [
        "from sklearn.model_selection import GroupShuffleSplit\n",
        "from imblearn.over_sampling import SMOTE\n",
        "import seaborn as sns\n",
        "\n",
        "# splitting by patientid\n",
        "_, id_indices = np.unique(np.array(df['PatientId']), return_inverse=True)\n",
        "train_ids, val_test_ids = next(GroupShuffleSplit(test_size=.30, n_splits=2, random_state = 8).split(df, groups=id_indices))\n",
        "\n",
        "val_test_set = df.iloc[val_test_ids]\n",
        "_, id_indices = np.unique(np.array(val_test_set['PatientId']), return_inverse=True)\n",
        "val_ids, test_ids = next(GroupShuffleSplit(test_size=.50, n_splits=2, random_state = 8).split(val_test_set , groups=id_indices))\n",
        "\n",
        "train_set = df.iloc[train_ids]\n",
        "val_set =  df.iloc[val_ids]\n",
        "test_set =  df.iloc[test_ids]\n",
        "\n",
        "\n",
        "check =  any(item in train_set['PatientId'] for item in (val_set['PatientId']))\n",
        "if check:\n",
        "  print(\"train_set['PatientId'] contains some elements of val_set['PatientId']\")      \n",
        "else:\n",
        "  print(\"train_set['PatientId'] does not have any element of val_set['PatientId'].\")\n",
        "\n",
        "check =  any(item in train_set['PatientId'] for item in (test_set['PatientId']))\n",
        "if check:\n",
        "  print(\"train_set['PatientId'] contains some elements of test_set['PatientId']\")      \n",
        "else:\n",
        "  print(\"train_set['PatientId'] does not have any element of test_set['PatientId'].\")\n",
        "\n",
        "\n",
        "check =  any(item in val_set['PatientId'] for item in (test_set['PatientId']))\n",
        "if check:\n",
        "  print(\"val_set['PatientId'] contains some elements of test_set['PatientId']\")      \n",
        "else:\n",
        "  print(\"val_set['PatientId'] does not have any element of test_set['PatientId'].\")\n",
        "\n",
        "\n",
        "\n",
        "\n",
        "\n",
        "drops = ['Label','No-show',\"Gender\",'AppointmentID', 'PatientId', 'ScheduledDay',\t'AppointmentDay', 'No-show', 'Age','under18', 'Neighbourhood']\n",
        "X_train = train_set.drop(drops, axis=1)\n",
        "y_train = train_set['Label']\n",
        "\n",
        "X_val = val_set.drop(drops, axis=1)\n",
        "y_val = val_set['Label']\n",
        "\n",
        "X_test = test_set.drop(drops, axis=1)\n",
        "y_test = test_set['Label']\n",
        "\n",
        "\n",
        "print(\"\\nX_train.shape: \", X_train.shape)\n",
        "print(\"X_val.shape: \", X_val.shape)\n",
        "print(\"X_test.shape: \", X_test.shape)\n",
        "print(\"df.shape: \", df.shape)\n",
        "\n",
        "\n",
        "\n",
        "# Resample the minority class\n",
        "sm = SMOTE(sampling_strategy='minority',random_state=8)\n",
        "type(train_set)\n",
        "X_train_os, y_train_os = sm.fit_sample(train_set.drop(drops, axis=1), train_set['Label'])\n",
        "X_val_os, y_val_os = sm.fit_sample(val_set.drop(drops, axis=1), val_set['Label'])\n",
        "X_test_os, y_test_os = sm.fit_sample(test_set.drop(drops, axis=1), test_set['Label'])\n",
        "\n",
        "plt.figure(figsize=(12, 16))\n",
        "plt.subplot(3, 2, 1)\n",
        "sns.countplot(x = 'Label', data=pd.DataFrame(y_train, columns=['Label']))\n",
        "plt.title('Unbalanced Classes - training set')\n",
        "\n",
        "\n",
        "plt.subplot(3, 2, 2)\n",
        "sns.countplot(x = 'Label', data=pd.DataFrame(y_train_os, columns=['Label']))\n",
        "plt.title('Balanced Classes- training set')\n",
        "\n",
        "\n",
        "\n",
        "plt.subplot(3, 2, 3)\n",
        "sns.countplot(x = 'Label', data=pd.DataFrame(y_val, columns=['Label']))\n",
        "plt.title('Unbalanced Classes - validation set')\n",
        "\n",
        "\n",
        "plt.subplot(3, 2, 4)\n",
        "sns.countplot(x = 'Label', data=pd.DataFrame(y_val_os, columns=['Label']))\n",
        "plt.title('Balanced Classes - validation set')\n",
        "\n",
        "\n",
        "plt.subplot(3, 2, 5)\n",
        "sns.countplot(x = 'Label', data=pd.DataFrame(y_test, columns=['Label']))\n",
        "plt.title('Unbalanced Classes - testing set')\n",
        "\n",
        "\n",
        "plt.subplot(3, 2, 6)\n",
        "sns.countplot(x = 'Label', data=pd.DataFrame(y_test_os, columns=['Label']))\n",
        "plt.title('Balanced Classes - testing set')\n",
        "\n",
        "\n",
        "\n",
        "plt.show()\n",
        "\n",
        "\n"
      ],
      "execution_count": 6,
      "outputs": [
        {
          "output_type": "stream",
          "text": [
            "train_set['PatientId'] does not have any element of val_set['PatientId'].\n",
            "train_set['PatientId'] does not have any element of test_set['PatientId'].\n",
            "val_set['PatientId'] does not have any element of test_set['PatientId'].\n",
            "\n",
            "X_train.shape:  (73119, 37)\n",
            "X_val.shape:  (15580, 37)\n",
            "X_test.shape:  (15641, 37)\n",
            "df.shape:  (104340, 46)\n"
          ],
          "name": "stdout"
        },
        {
          "output_type": "error",
          "ename": "ValueError",
          "evalue": "ignored",
          "traceback": [
            "\u001b[0;31m---------------------------------------------------------------------------\u001b[0m",
            "\u001b[0;31mValueError\u001b[0m                                Traceback (most recent call last)",
            "\u001b[0;32m<ipython-input-6-a3893bc024a3>\u001b[0m in \u001b[0;36m<module>\u001b[0;34m()\u001b[0m\n\u001b[1;32m     60\u001b[0m \u001b[0msm\u001b[0m \u001b[0;34m=\u001b[0m \u001b[0mSMOTE\u001b[0m\u001b[0;34m(\u001b[0m\u001b[0msampling_strategy\u001b[0m\u001b[0;34m=\u001b[0m\u001b[0;34m'minority'\u001b[0m\u001b[0;34m,\u001b[0m\u001b[0mrandom_state\u001b[0m\u001b[0;34m=\u001b[0m\u001b[0;36m8\u001b[0m\u001b[0;34m)\u001b[0m\u001b[0;34m\u001b[0m\u001b[0;34m\u001b[0m\u001b[0m\n\u001b[1;32m     61\u001b[0m \u001b[0mtype\u001b[0m\u001b[0;34m(\u001b[0m\u001b[0mtrain_set\u001b[0m\u001b[0;34m)\u001b[0m\u001b[0;34m\u001b[0m\u001b[0;34m\u001b[0m\u001b[0m\n\u001b[0;32m---> 62\u001b[0;31m \u001b[0mX_train_os\u001b[0m\u001b[0;34m,\u001b[0m \u001b[0my_train_os\u001b[0m \u001b[0;34m=\u001b[0m \u001b[0msm\u001b[0m\u001b[0;34m.\u001b[0m\u001b[0mfit_sample\u001b[0m\u001b[0;34m(\u001b[0m\u001b[0mtrain_set\u001b[0m\u001b[0;34m.\u001b[0m\u001b[0mdrop\u001b[0m\u001b[0;34m(\u001b[0m\u001b[0mdrops\u001b[0m\u001b[0;34m,\u001b[0m \u001b[0maxis\u001b[0m\u001b[0;34m=\u001b[0m\u001b[0;36m1\u001b[0m\u001b[0;34m)\u001b[0m\u001b[0;34m,\u001b[0m \u001b[0mtrain_set\u001b[0m\u001b[0;34m[\u001b[0m\u001b[0;34m'Label'\u001b[0m\u001b[0;34m]\u001b[0m\u001b[0;34m)\u001b[0m\u001b[0;34m\u001b[0m\u001b[0;34m\u001b[0m\u001b[0m\n\u001b[0m\u001b[1;32m     63\u001b[0m \u001b[0mX_val_os\u001b[0m\u001b[0;34m,\u001b[0m \u001b[0my_val_os\u001b[0m \u001b[0;34m=\u001b[0m \u001b[0msm\u001b[0m\u001b[0;34m.\u001b[0m\u001b[0mfit_sample\u001b[0m\u001b[0;34m(\u001b[0m\u001b[0mval_set\u001b[0m\u001b[0;34m.\u001b[0m\u001b[0mdrop\u001b[0m\u001b[0;34m(\u001b[0m\u001b[0mdrops\u001b[0m\u001b[0;34m,\u001b[0m \u001b[0maxis\u001b[0m\u001b[0;34m=\u001b[0m\u001b[0;36m1\u001b[0m\u001b[0;34m)\u001b[0m\u001b[0;34m,\u001b[0m \u001b[0mval_set\u001b[0m\u001b[0;34m[\u001b[0m\u001b[0;34m'Label'\u001b[0m\u001b[0;34m]\u001b[0m\u001b[0;34m)\u001b[0m\u001b[0;34m\u001b[0m\u001b[0;34m\u001b[0m\u001b[0m\n\u001b[1;32m     64\u001b[0m \u001b[0mX_test_os\u001b[0m\u001b[0;34m,\u001b[0m \u001b[0my_test_os\u001b[0m \u001b[0;34m=\u001b[0m \u001b[0msm\u001b[0m\u001b[0;34m.\u001b[0m\u001b[0mfit_sample\u001b[0m\u001b[0;34m(\u001b[0m\u001b[0mtest_set\u001b[0m\u001b[0;34m.\u001b[0m\u001b[0mdrop\u001b[0m\u001b[0;34m(\u001b[0m\u001b[0mdrops\u001b[0m\u001b[0;34m,\u001b[0m \u001b[0maxis\u001b[0m\u001b[0;34m=\u001b[0m\u001b[0;36m1\u001b[0m\u001b[0;34m)\u001b[0m\u001b[0;34m,\u001b[0m \u001b[0mtest_set\u001b[0m\u001b[0;34m[\u001b[0m\u001b[0;34m'Label'\u001b[0m\u001b[0;34m]\u001b[0m\u001b[0;34m)\u001b[0m\u001b[0;34m\u001b[0m\u001b[0;34m\u001b[0m\u001b[0m\n",
            "\u001b[0;32m/usr/local/lib/python3.6/dist-packages/imblearn/base.py\u001b[0m in \u001b[0;36mfit_resample\u001b[0;34m(self, X, y)\u001b[0m\n\u001b[1;32m     78\u001b[0m         \u001b[0mself\u001b[0m\u001b[0;34m.\u001b[0m\u001b[0m_deprecate_ratio\u001b[0m\u001b[0;34m(\u001b[0m\u001b[0;34m)\u001b[0m\u001b[0;34m\u001b[0m\u001b[0;34m\u001b[0m\u001b[0m\n\u001b[1;32m     79\u001b[0m \u001b[0;34m\u001b[0m\u001b[0m\n\u001b[0;32m---> 80\u001b[0;31m         \u001b[0mX\u001b[0m\u001b[0;34m,\u001b[0m \u001b[0my\u001b[0m\u001b[0;34m,\u001b[0m \u001b[0mbinarize_y\u001b[0m \u001b[0;34m=\u001b[0m \u001b[0mself\u001b[0m\u001b[0;34m.\u001b[0m\u001b[0m_check_X_y\u001b[0m\u001b[0;34m(\u001b[0m\u001b[0mX\u001b[0m\u001b[0;34m,\u001b[0m \u001b[0my\u001b[0m\u001b[0;34m)\u001b[0m\u001b[0;34m\u001b[0m\u001b[0;34m\u001b[0m\u001b[0m\n\u001b[0m\u001b[1;32m     81\u001b[0m \u001b[0;34m\u001b[0m\u001b[0m\n\u001b[1;32m     82\u001b[0m         self.sampling_strategy_ = check_sampling_strategy(\n",
            "\u001b[0;32m/usr/local/lib/python3.6/dist-packages/imblearn/base.py\u001b[0m in \u001b[0;36m_check_X_y\u001b[0;34m(X, y)\u001b[0m\n\u001b[1;32m    136\u001b[0m     \u001b[0;32mdef\u001b[0m \u001b[0m_check_X_y\u001b[0m\u001b[0;34m(\u001b[0m\u001b[0mX\u001b[0m\u001b[0;34m,\u001b[0m \u001b[0my\u001b[0m\u001b[0;34m)\u001b[0m\u001b[0;34m:\u001b[0m\u001b[0;34m\u001b[0m\u001b[0;34m\u001b[0m\u001b[0m\n\u001b[1;32m    137\u001b[0m         \u001b[0my\u001b[0m\u001b[0;34m,\u001b[0m \u001b[0mbinarize_y\u001b[0m \u001b[0;34m=\u001b[0m \u001b[0mcheck_target_type\u001b[0m\u001b[0;34m(\u001b[0m\u001b[0my\u001b[0m\u001b[0;34m,\u001b[0m \u001b[0mindicate_one_vs_all\u001b[0m\u001b[0;34m=\u001b[0m\u001b[0;32mTrue\u001b[0m\u001b[0;34m)\u001b[0m\u001b[0;34m\u001b[0m\u001b[0;34m\u001b[0m\u001b[0m\n\u001b[0;32m--> 138\u001b[0;31m         \u001b[0mX\u001b[0m\u001b[0;34m,\u001b[0m \u001b[0my\u001b[0m \u001b[0;34m=\u001b[0m \u001b[0mcheck_X_y\u001b[0m\u001b[0;34m(\u001b[0m\u001b[0mX\u001b[0m\u001b[0;34m,\u001b[0m \u001b[0my\u001b[0m\u001b[0;34m,\u001b[0m \u001b[0maccept_sparse\u001b[0m\u001b[0;34m=\u001b[0m\u001b[0;34m[\u001b[0m\u001b[0;34m'csr'\u001b[0m\u001b[0;34m,\u001b[0m \u001b[0;34m'csc'\u001b[0m\u001b[0;34m]\u001b[0m\u001b[0;34m)\u001b[0m\u001b[0;34m\u001b[0m\u001b[0;34m\u001b[0m\u001b[0m\n\u001b[0m\u001b[1;32m    139\u001b[0m         \u001b[0;32mreturn\u001b[0m \u001b[0mX\u001b[0m\u001b[0;34m,\u001b[0m \u001b[0my\u001b[0m\u001b[0;34m,\u001b[0m \u001b[0mbinarize_y\u001b[0m\u001b[0;34m\u001b[0m\u001b[0;34m\u001b[0m\u001b[0m\n\u001b[1;32m    140\u001b[0m \u001b[0;34m\u001b[0m\u001b[0m\n",
            "\u001b[0;32m/usr/local/lib/python3.6/dist-packages/sklearn/utils/validation.py\u001b[0m in \u001b[0;36mcheck_X_y\u001b[0;34m(X, y, accept_sparse, accept_large_sparse, dtype, order, copy, force_all_finite, ensure_2d, allow_nd, multi_output, ensure_min_samples, ensure_min_features, y_numeric, warn_on_dtype, estimator)\u001b[0m\n\u001b[1;32m    717\u001b[0m                     \u001b[0mensure_min_features\u001b[0m\u001b[0;34m=\u001b[0m\u001b[0mensure_min_features\u001b[0m\u001b[0;34m,\u001b[0m\u001b[0;34m\u001b[0m\u001b[0;34m\u001b[0m\u001b[0m\n\u001b[1;32m    718\u001b[0m                     \u001b[0mwarn_on_dtype\u001b[0m\u001b[0;34m=\u001b[0m\u001b[0mwarn_on_dtype\u001b[0m\u001b[0;34m,\u001b[0m\u001b[0;34m\u001b[0m\u001b[0;34m\u001b[0m\u001b[0m\n\u001b[0;32m--> 719\u001b[0;31m                     estimator=estimator)\n\u001b[0m\u001b[1;32m    720\u001b[0m     \u001b[0;32mif\u001b[0m \u001b[0mmulti_output\u001b[0m\u001b[0;34m:\u001b[0m\u001b[0;34m\u001b[0m\u001b[0;34m\u001b[0m\u001b[0m\n\u001b[1;32m    721\u001b[0m         y = check_array(y, 'csr', force_all_finite=True, ensure_2d=False,\n",
            "\u001b[0;32m/usr/local/lib/python3.6/dist-packages/sklearn/utils/validation.py\u001b[0m in \u001b[0;36mcheck_array\u001b[0;34m(array, accept_sparse, accept_large_sparse, dtype, order, copy, force_all_finite, ensure_2d, allow_nd, ensure_min_samples, ensure_min_features, warn_on_dtype, estimator)\u001b[0m\n\u001b[1;32m    534\u001b[0m         \u001b[0;31m# make sure we actually converted to numeric:\u001b[0m\u001b[0;34m\u001b[0m\u001b[0;34m\u001b[0m\u001b[0;34m\u001b[0m\u001b[0m\n\u001b[1;32m    535\u001b[0m         \u001b[0;32mif\u001b[0m \u001b[0mdtype_numeric\u001b[0m \u001b[0;32mand\u001b[0m \u001b[0marray\u001b[0m\u001b[0;34m.\u001b[0m\u001b[0mdtype\u001b[0m\u001b[0;34m.\u001b[0m\u001b[0mkind\u001b[0m \u001b[0;34m==\u001b[0m \u001b[0;34m\"O\"\u001b[0m\u001b[0;34m:\u001b[0m\u001b[0;34m\u001b[0m\u001b[0;34m\u001b[0m\u001b[0m\n\u001b[0;32m--> 536\u001b[0;31m             \u001b[0marray\u001b[0m \u001b[0;34m=\u001b[0m \u001b[0marray\u001b[0m\u001b[0;34m.\u001b[0m\u001b[0mastype\u001b[0m\u001b[0;34m(\u001b[0m\u001b[0mnp\u001b[0m\u001b[0;34m.\u001b[0m\u001b[0mfloat64\u001b[0m\u001b[0;34m)\u001b[0m\u001b[0;34m\u001b[0m\u001b[0;34m\u001b[0m\u001b[0m\n\u001b[0m\u001b[1;32m    537\u001b[0m         \u001b[0;32mif\u001b[0m \u001b[0;32mnot\u001b[0m \u001b[0mallow_nd\u001b[0m \u001b[0;32mand\u001b[0m \u001b[0marray\u001b[0m\u001b[0;34m.\u001b[0m\u001b[0mndim\u001b[0m \u001b[0;34m>=\u001b[0m \u001b[0;36m3\u001b[0m\u001b[0;34m:\u001b[0m\u001b[0;34m\u001b[0m\u001b[0;34m\u001b[0m\u001b[0m\n\u001b[1;32m    538\u001b[0m             raise ValueError(\"Found array with dim %d. %s expected <= 2.\"\n",
            "\u001b[0;31mValueError\u001b[0m: could not convert string to float: 'REPÚBLICA'"
          ]
        }
      ]
    },
    {
      "cell_type": "markdown",
      "metadata": {
        "id": "coj9iCOe7deP",
        "colab_type": "text"
      },
      "source": [
        "## unbalanced sets:\n",
        "X_train, y_train \n",
        "\n",
        "X_val, y_val\n",
        "\n",
        "X_test, y_test\n",
        "\n",
        "## balanced sets:\n",
        "X_train_os, y_train_os\n",
        "\n",
        "X_val_os, y_val_os\n",
        "\n",
        "X_test_os, y_test_os"
      ]
    },
    {
      "cell_type": "markdown",
      "metadata": {
        "id": "a80DbBIHU1UJ",
        "colab_type": "text"
      },
      "source": [
        "### Idea of dealing with data\n",
        "\n",
        "*   calculate the difference of appontment day - scheduled day\n",
        "*   label whic weakday of appointment day\n",
        "\n"
      ]
    },
    {
      "cell_type": "code",
      "metadata": {
        "id": "ViZnhJpjeq29",
        "colab_type": "code",
        "outputId": "39e41c00-88c5-49b1-a554-78b79d2e92a9",
        "colab": {
          "base_uri": "https://localhost:8080/"
        }
      },
      "source": [
        "# Logistic Regression\n",
        "logreg = LogisticRegression(C=1e5, solver='liblinear', multi_class='ovr')\n",
        "logreg_model = logreg.fit(X_train, y_train)\n",
        "y_lr_pred = logreg_model.predict(X_test)\n",
        "\n",
        "\n",
        "# SVM\n",
        "# Ploynomial kernel\n",
        "svclassifier_ploy = SVC(kernel='poly',degree=8)\n",
        "svclassifier_ploy.fit(X_train, y_train)\n",
        "# Gaussian Kernel\n",
        "svclassifier_rbf = SVC(kernel='rbf')\n",
        "svclassifier_rbf.fit(X_train, y_train)\n",
        "# Sigmoid Kernel\n",
        "svclassifier_sig = SVC(kernel='sigmoid')\n",
        "svclassifier_sig.fit(X_train, y_train)\n",
        "# Doin predictions\n",
        "y_ploy_pred = svclassifier_ploy.predict(X_test)\n",
        "y_rbf_pred = svclassifier_rbf.predict(X_test)\n",
        "y_sig_pred = svclassifier_sig.predict(X_test)\n",
        "\n",
        "# Decision Tree\n",
        "dtc = DecisionTreeClassifier() \n",
        "dtc.fit(X_train, y_train)\n",
        "y_dt_pred = dtc.predict(X_test)\n",
        "\n",
        "# Random Forest\n",
        "rfc = RandomForestClassifier()\n",
        "rfc.fit(X_train, y_train)\n",
        "y_rfc_pred = rfc.predict(X_test)"
      ],
      "execution_count": 0,
      "outputs": [
        {
          "output_type": "stream",
          "text": [
            "/usr/local/lib/python3.6/dist-packages/sklearn/svm/base.py:193: FutureWarning: The default value of gamma will change from 'auto' to 'scale' in version 0.22 to account better for unscaled features. Set gamma explicitly to 'auto' or 'scale' to avoid this warning.\n",
            "  \"avoid this warning.\", FutureWarning)\n"
          ],
          "name": "stderr"
        }
      ]
    },
    {
      "cell_type": "code",
      "metadata": {
        "id": "pUMdsshyh4ny",
        "colab_type": "code",
        "colab": {}
      },
      "source": [
        "# Logistic Regression\n",
        "print(\"The Logistic Regression accuracy classification score is\", round(logreg_model.score(X_test, y_test),3))\n",
        "print(confusion_matrix(y_test, y_lr_pred))\n",
        "print(classification_report(y_test, y_lr_pred))\n",
        "fpr_lr, tpr_lr, _ = roc_curve(y_test, y_lr_pred)\n",
        "\n",
        "# SVM\n",
        "s_ploy = round(svclassifier_ploy.score(X_test, y_test), 3)\n",
        "s_rbf = round(svclassifier_rbf.score(X_test, y_test), 3)\n",
        "s_sig = round(svclassifier_sig.score(X_test, y_test), 3)\n",
        "c_ploy = confusion_matrix(y_test, y_ploy_pred)\n",
        "c_rbf = confusion_matrix(y_test, y_rbf_pred)\n",
        "c_sig = confusion_matrix(y_test, y_sig_pred)\n",
        "cr_ploy = classification_report(y_test, y_ploy_pred)\n",
        "cr_rbf = classification_report(y_test, y_rbf_pred)\n",
        "cr_sig = classification_report(y_test, y_sig_pred)\n",
        "print(\"The SVM accuracy score of different kernals are :\\nPloynomial kernel {0}\\n \\\n",
        "Gaussian Kernel: {1}\\nSigmoid Kernel: {2}\".format(s_ploy, s_rbf, s_sig))\n",
        "print(\"The SVM confusion_matrix are:\\nPloynomial kernel\\n{0}\\n \\\n",
        "Gaussian Kernel:\\n{1}\\n Sigmoid Kernel:\\n{2}\".format(c_ploy, c_rbf, c_sig))\n",
        "print(\"The SVM classification reports are:\\nPloynomial kernel\\n{0}\\n \\\n",
        "Gaussian Kernel:\\n{1}\\n Sigmoid Kernel:\\n{2}\".format(cr_ploy, cr_rbf, cr_sig))\n",
        "fpr_svm_ploy, tpr_svm_ploy, _ = roc_curve(y_test, y_ploy_pred)\n",
        "fpr_svm_rbf, tpr_svm_rbf, _ = roc_curve(y_test, y_rbf_pred)\n",
        "fpr_svm_sig, tpr_svm_sig, _ = roc_curve(y_test, y_sig_pred)\n",
        "\n",
        "#Decision Tree\n",
        "print(\"The Decision Tree accuracy classification score is\", round(dtc.score(X_test, y_test),3))\n",
        "print(confusion_matrix(y_test, y_dt_pred))\n",
        "print(classification_report(y_test, y_dt_pred, target_names=[\"0\", \"1\"]))\n",
        "fpr_dt, tpr_dt, _ = roc_curve(y_test, y_dt_pred)\n",
        "\n",
        "# Random Forest\n",
        "print(\"The Random Forest accuracy classification score is\", round(rfc.score(X_test, y_test),3))\n",
        "print(confusion_matrix(y_test, y_rfc_pred))\n",
        "print(classification_report(y_test, y_rfc_pred, target_names=[\"0\", \"1\"]))\n",
        "fpr_rf, tpr_rf, _ = roc_curve(y_test, y_rfc_pred)"
      ],
      "execution_count": 0,
      "outputs": []
    },
    {
      "cell_type": "code",
      "metadata": {
        "id": "BRXlqt1ejwg9",
        "colab_type": "code",
        "outputId": "6b6eb44f-cbad-4e21-fb3b-962b8ee37573",
        "colab": {
          "base_uri": "https://localhost:8080/",
          "height": 221
        }
      },
      "source": [
        "# linear kernal\n",
        "from sklearn.svm import SVC\n",
        "from sklearn.metrics import classification_report, confusion_matrix\n",
        "svclassifier = SVC(kernel='linear')\n",
        "svclassifier.fit(X_train, y_train)\n",
        "y_pred=svclassifier.predict(X_test)\n",
        "print('linear kernel \\n', confusion_matrix(y_test, y_pred))\n",
        "print(classification_report(y_test, y_pred))\n",
        "\n"
      ],
      "execution_count": 0,
      "outputs": [
        {
          "output_type": "stream",
          "text": [
            "linear kernel \n",
            " [[13242     0]\n",
            " [ 3335     1]]\n",
            "              precision    recall  f1-score   support\n",
            "\n",
            "           0       0.80      1.00      0.89     13242\n",
            "           1       1.00      0.00      0.00      3336\n",
            "\n",
            "    accuracy                           0.80     16578\n",
            "   macro avg       0.90      0.50      0.44     16578\n",
            "weighted avg       0.84      0.80      0.71     16578\n",
            "\n"
          ],
          "name": "stdout"
        }
      ]
    },
    {
      "cell_type": "markdown",
      "metadata": {
        "id": "yWkg0sV9sChs",
        "colab_type": "text"
      },
      "source": [
        "### For location category"
      ]
    },
    {
      "cell_type": "code",
      "metadata": {
        "id": "syMNhRdnrtDV",
        "colab_type": "code",
        "outputId": "af682570-78c7-46f7-ab5c-642994542725",
        "colab": {
          "base_uri": "https://localhost:8080/",
          "height": 34
        }
      },
      "source": [
        "import statistics as stat\n",
        "\n",
        "mean = stat.mean(towns.values())\n",
        "median = stat.median(towns.values())\n",
        "print(f\"The mean is {mean}, the median is {median}\")"
      ],
      "execution_count": 0,
      "outputs": [
        {
          "output_type": "stream",
          "text": [
            "The mean is 1364, the median is 851\n"
          ],
          "name": "stdout"
        }
      ]
    },
    {
      "cell_type": "code",
      "metadata": {
        "id": "xL1mVe4S1Rkt",
        "colab_type": "code",
        "outputId": "c094bcf1-cdbe-4385-bc3e-0c1834fccb82",
        "colab": {
          "base_uri": "https://localhost:8080/",
          "height": 85
        }
      },
      "source": [
        "# Get the latlng of whose patient less than 10\n",
        "under10 = {k:v for k,v in towns.items() if v <= 10}\n",
        "for keys, values in under10.items():\n",
        "  gis.get_json(keys + City)\n",
        "  print( \"The town is \" + keys + str(gis.parse_json()) + \". The number of patients is\" + str(values))"
      ],
      "execution_count": 0,
      "outputs": [
        {
          "output_type": "stream",
          "text": [
            "The town is AEROPORTO(-20.2616507, -40.2833315). The number of patients is8\n",
            "The town is ILHA DO FRADE(-20.3020067, -40.2814162). The number of patients is10\n",
            "The town is ILHAS OCEÂNICAS DE TRINDADE(-20.5080654, -29.3308425). The number of patients is2\n",
            "The town is PARQUE INDUSTRIAL(-19.1834229, -40.3088626). The number of patients is1\n"
          ],
          "name": "stdout"
        }
      ]
    },
    {
      "cell_type": "code",
      "metadata": {
        "id": "MHAtpAIe1Rs5",
        "colab_type": "code",
        "outputId": "702862b4-e8eb-4adc-f29d-f00e2b79e22d",
        "colab": {
          "base_uri": "https://localhost:8080/",
          "height": 68
        }
      },
      "source": [
        "# Get the latlng of whose patient more than 4000\n",
        "top3 = {k:v for k,v in towns.items() if v > 4000}\n",
        "for keys, values in top3.items():\n",
        "  gis.get_json(keys + City)\n",
        "  print( \"The town is \" + keys + str(gis.parse_json()) + \". The number of patients is\" + str(values))"
      ],
      "execution_count": 0,
      "outputs": [
        {
          "output_type": "stream",
          "text": [
            "The town is JARDIM CAMBURI(-20.2592187, -40.26545309999999). The number of patients is7717\n",
            "The town is MARIA ORTIZ(-19.1834229, -40.3088626). The number of patients is5805\n",
            "The town is RESISTÊNCIA(-20.2729812, -40.3177959). The number of patients is4431\n"
          ],
          "name": "stdout"
        }
      ]
    },
    {
      "cell_type": "markdown",
      "metadata": {
        "id": "IcEHofpWx8o1",
        "colab_type": "text"
      },
      "source": [
        "### 11.28 after cluster 用这个cluster_kmeans_df，别忘了integer cluster "
      ]
    },
    {
      "cell_type": "code",
      "metadata": {
        "id": "VT7SjqOVUjCt",
        "colab_type": "code",
        "outputId": "f51925c0-033e-4a1c-f2f4-0834919e2fa4",
        "colab": {
          "base_uri": "https://localhost:8080/",
          "height": 204
        }
      },
      "source": [
        "\n",
        "with open('/gdrive/My Drive/UR/DSC481/Project/cluster_kmeans15.csv') as csv_file:\n",
        "  attributes = ['index','PatientId', 'town name', 'town gps', 'patient gps', 'clusters' ]\n",
        "  next(csv_file)\n",
        "  cluster_kmeans = csv.reader(csv_file, delimiter=',')\n",
        "  cluster_kmeans_df = pd.DataFrame(cluster_kmeans, columns=attributes)\n",
        "cluster_kmeans_df.tail()"
      ],
      "execution_count": 0,
      "outputs": [
        {
          "output_type": "execute_result",
          "data": {
            "text/html": [
              "<div>\n",
              "<style scoped>\n",
              "    .dataframe tbody tr th:only-of-type {\n",
              "        vertical-align: middle;\n",
              "    }\n",
              "\n",
              "    .dataframe tbody tr th {\n",
              "        vertical-align: top;\n",
              "    }\n",
              "\n",
              "    .dataframe thead th {\n",
              "        text-align: right;\n",
              "    }\n",
              "</style>\n",
              "<table border=\"1\" class=\"dataframe\">\n",
              "  <thead>\n",
              "    <tr style=\"text-align: right;\">\n",
              "      <th></th>\n",
              "      <th>index</th>\n",
              "      <th>PatientId</th>\n",
              "      <th>town name</th>\n",
              "      <th>town gps</th>\n",
              "      <th>patient gps</th>\n",
              "      <th>clusters</th>\n",
              "    </tr>\n",
              "  </thead>\n",
              "  <tbody>\n",
              "    <tr>\n",
              "      <th>110519</th>\n",
              "      <td>110522</td>\n",
              "      <td>2572134369293</td>\n",
              "      <td>MARIA ORTIZ</td>\n",
              "      <td>(-20.258305, -40.2999279)</td>\n",
              "      <td>[[-20.25829084 -40.29996018]]</td>\n",
              "      <td>4</td>\n",
              "    </tr>\n",
              "    <tr>\n",
              "      <th>110520</th>\n",
              "      <td>110523</td>\n",
              "      <td>3596266328735</td>\n",
              "      <td>MARIA ORTIZ</td>\n",
              "      <td>(-20.258305, -40.2999279)</td>\n",
              "      <td>[[-20.25841998 -40.29996579]]</td>\n",
              "      <td>4</td>\n",
              "    </tr>\n",
              "    <tr>\n",
              "      <th>110521</th>\n",
              "      <td>110524</td>\n",
              "      <td>15576631729893</td>\n",
              "      <td>MARIA ORTIZ</td>\n",
              "      <td>(-20.258305, -40.2999279)</td>\n",
              "      <td>[[-20.25819621 -40.30020557]]</td>\n",
              "      <td>4</td>\n",
              "    </tr>\n",
              "    <tr>\n",
              "      <th>110522</th>\n",
              "      <td>110525</td>\n",
              "      <td>92134931435557</td>\n",
              "      <td>MARIA ORTIZ</td>\n",
              "      <td>(-20.258305, -40.2999279)</td>\n",
              "      <td>[[-20.25834054 -40.30018776]]</td>\n",
              "      <td>4</td>\n",
              "    </tr>\n",
              "    <tr>\n",
              "      <th>110523</th>\n",
              "      <td>110526</td>\n",
              "      <td>377511518121127</td>\n",
              "      <td>MARIA ORTIZ</td>\n",
              "      <td>(-20.258305, -40.2999279)</td>\n",
              "      <td>[[-20.2583346  -40.29988491]]</td>\n",
              "      <td>4</td>\n",
              "    </tr>\n",
              "  </tbody>\n",
              "</table>\n",
              "</div>"
            ],
            "text/plain": [
              "         index        PatientId  ...                    patient gps clusters\n",
              "110519  110522    2572134369293  ...  [[-20.25829084 -40.29996018]]        4\n",
              "110520  110523    3596266328735  ...  [[-20.25841998 -40.29996579]]        4\n",
              "110521  110524   15576631729893  ...  [[-20.25819621 -40.30020557]]        4\n",
              "110522  110525   92134931435557  ...  [[-20.25834054 -40.30018776]]        4\n",
              "110523  110526  377511518121127  ...  [[-20.2583346  -40.29988491]]        4\n",
              "\n",
              "[5 rows x 6 columns]"
            ]
          },
          "metadata": {
            "tags": []
          },
          "execution_count": 2
        }
      ]
    },
    {
      "cell_type": "code",
      "metadata": {
        "id": "SAfweCwmx5hh",
        "colab_type": "code",
        "colab": {}
      },
      "source": [
        "# Drop \"ILHAS OCEANICAS DE TRINDADE\" and \"PARQUE INDUSTRIAL\"\n",
        "df = df[df.Neighbourhood != \"ILHAS OCEÂNICAS DE TRINDADE\"]\n",
        "df = df[df.Neighbourhood != \"PARQUE INDUSTRIAL\"]"
      ],
      "execution_count": 0,
      "outputs": []
    },
    {
      "cell_type": "code",
      "metadata": {
        "id": "TR-bHsOU-lZ3",
        "colab_type": "code",
        "outputId": "3e84a708-bda2-4c00-e280-732519d7157b",
        "colab": {
          "base_uri": "https://localhost:8080/",
          "height": 68
        }
      },
      "source": [
        "# Get the latlng of whose patient less than 110\n",
        "patient_loc = df[['Neighbourhood','PatientId']].groupby([\"Neighbourhood\"])\n",
        "towns_keys = [el for el in patient_loc.groups.keys()] # approach of get keys after 'groupby'\n",
        "patient_count = [patient_loc.count().iloc[i,0] for i in range(len(patient_loc.count()))]\n",
        "towns = dict(zip(towns_keys, patient_count))\n",
        "under110 = {k:v for k,v in towns.items() if v <= 110}\n",
        "for keys, values in under110.items():\n",
        "  gis.get_json(keys + City)\n",
        "  print( \"The town is \" + keys + str(gis.parse_json()) + \". The number of patients is\" + str(values))"
      ],
      "execution_count": 0,
      "outputs": [
        {
          "output_type": "stream",
          "text": [
            "The town is ILHA DO BOI(-20.2976178, -40.2957768). The number of patients is35\n",
            "The town is MORADA DE CAMBURI(-20.2720492, -40.2967367). The number of patients is96\n",
            "The town is PONTAL DE CAMBURI(-20.2900766, -40.2980132). The number of patients is69\n"
          ],
          "name": "stdout"
        }
      ]
    }
  ]
}