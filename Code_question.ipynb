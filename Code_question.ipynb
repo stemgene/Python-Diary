{
  "nbformat": 4,
  "nbformat_minor": 0,
  "metadata": {
    "colab": {
      "name": "Code question.ipynb",
      "provenance": [],
      "include_colab_link": true
    },
    "kernelspec": {
      "name": "python3",
      "display_name": "Python 3"
    }
  },
  "cells": [
    {
      "cell_type": "markdown",
      "metadata": {
        "id": "view-in-github",
        "colab_type": "text"
      },
      "source": [
        "<a href=\"https://colab.research.google.com/github/stemgene/Python-Diary/blob/master/Code_question.ipynb\" target=\"_parent\"><img src=\"https://colab.research.google.com/assets/colab-badge.svg\" alt=\"Open In Colab\"/></a>"
      ]
    },
    {
      "cell_type": "markdown",
      "metadata": {
        "id": "uKFzPadbpazK",
        "colab_type": "text"
      },
      "source": [
        "#### Convert 3-D np.array to 2D (be able to save file)"
      ]
    },
    {
      "cell_type": "code",
      "metadata": {
        "id": "E6iVXGjSpCYA",
        "colab_type": "code",
        "colab": {}
      },
      "source": [
        "import numpy as np\n",
        "import pandas as pd\n",
        "# create an example array\n",
        "a = np.arange(24).reshape([2,3,4])\n",
        "# convert it to stacked format using Pandas\n",
        "stacked = pd.Panel(a.swapaxes(1,2)).to_frame().stack().reset_index()\n",
        "stacked.columns = ['x', 'y', 'z', 'value']\n",
        "# save to disk\n",
        "stacked.to_csv('stacked.csv', index=False)"
      ],
      "execution_count": 0,
      "outputs": []
    },
    {
      "cell_type": "markdown",
      "metadata": {
        "id": "xwk5p5_lupW2",
        "colab_type": "text"
      },
      "source": [
        "A easy way"
      ]
    },
    {
      "cell_type": "code",
      "metadata": {
        "id": "p4Dp6478un8p",
        "colab_type": "code",
        "colab": {}
      },
      "source": [
        "#First convert to 1-D\n",
        "X_test_1d = np.ravel(X_test) # need to record the original dimension, say (110, 22, 16)\n",
        "np.savetxt(\"X_test_110_22_16.csv\", X_test_1d, delimiter=\",\")\n",
        "# Then load this data again, and convert it to original dimension\n",
        "X_test_110_22_16.reshape(110, 22, 16)"
      ],
      "execution_count": 0,
      "outputs": []
    }
  ]
}