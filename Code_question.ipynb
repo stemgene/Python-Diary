{
  "nbformat": 4,
  "nbformat_minor": 0,
  "metadata": {
    "colab": {
      "name": "Code question.ipynb",
      "provenance": [],
      "include_colab_link": true
    },
    "kernelspec": {
      "name": "python3",
      "display_name": "Python 3"
    }
  },
  "cells": [
    {
      "cell_type": "markdown",
      "metadata": {
        "id": "view-in-github",
        "colab_type": "text"
      },
      "source": [
        "<a href=\"https://colab.research.google.com/github/stemgene/Python-Diary/blob/master/Code_question.ipynb\" target=\"_parent\"><img src=\"https://colab.research.google.com/assets/colab-badge.svg\" alt=\"Open In Colab\"/></a>"
      ]
    },
    {
      "cell_type": "markdown",
      "metadata": {
        "id": "uKFzPadbpazK",
        "colab_type": "text"
      },
      "source": [
        "#### Convert 3-D np.array to 2D (be able to save file)"
      ]
    },
    {
      "cell_type": "code",
      "metadata": {
        "id": "E6iVXGjSpCYA",
        "colab_type": "code",
        "colab": {}
      },
      "source": [
        "import numpy as np\n",
        "import pandas as pd\n",
        "import string\n",
        "\n",
        "def using_multiindex(A, columns):\n",
        "    shape = A.shape\n",
        "    index = pd.MultiIndex.from_product([range(s)for s in shape], names=columns)\n",
        "    df = pd.DataFrame({'A': A.flatten()}, index=index).reset_index()\n",
        "    return df\n",
        "\n",
        "A = np.array([[[ 0.43793885,  0.40078139,  0.48078691,  0.05334248],\n",
        "    [ 0.76331509,  0.82514441,  0.86169078,  0.86496111],\n",
        "    [ 0.75572665,  0.80860943,  0.79995337,  0.63123724]],\n",
        "\n",
        "   [[ 0.20648946,  0.57042315,  0.71777265,  0.34155005],\n",
        "    [ 0.30843717,  0.39381407,  0.12623462,  0.93481552],\n",
        "    [ 0.3267771 ,  0.64097038,  0.30405215,  0.57726629]]])\n",
        "\n",
        "df = using_multiindex(A, list('ZYX'))\n",
        "\n",
        "\"\"\" Outputs\n",
        " Z  Y  X         A\n",
        "0   0  0  0  0.437939\n",
        "1   0  0  1  0.400781\n",
        "2   0  0  2  0.480787\n",
        "3   0  0  3  0.053342\n",
        "...\n",
        "21  1  2  1  0.640970\n",
        "22  1  2  2  0.304052\n",
        "23  1  2  3  0.577266"
      ],
      "execution_count": 0,
      "outputs": []
    },
    {
      "cell_type": "markdown",
      "metadata": {
        "id": "xwk5p5_lupW2",
        "colab_type": "text"
      },
      "source": [
        "A easy way"
      ]
    },
    {
      "cell_type": "code",
      "metadata": {
        "id": "p4Dp6478un8p",
        "colab_type": "code",
        "colab": {}
      },
      "source": [
        "#First convert to 1-D\n",
        "X_test_1d = np.ravel(X_test) # need to record the original dimension, say (110, 22, 16)\n",
        "np.savetxt(\"X_test_110_22_16.csv\", X_test_1d, delimiter=\",\")\n",
        "# Then load this data again, and convert it to original dimension\n",
        "X_test_110_22_16.reshape(110, 22, 16)"
      ],
      "execution_count": 0,
      "outputs": []
    }
  ]
}