{
  "nbformat": 4,
  "nbformat_minor": 0,
  "metadata": {
    "colab": {
      "name": "Pandas_Operation.ipynb",
      "provenance": [],
      "include_colab_link": true
    },
    "kernelspec": {
      "name": "python3",
      "display_name": "Python 3"
    }
  },
  "cells": [
    {
      "cell_type": "markdown",
      "metadata": {
        "id": "view-in-github",
        "colab_type": "text"
      },
      "source": [
        "<a href=\"https://colab.research.google.com/github/stemgene/Python-Diary/blob/master/Pandas_Operation.ipynb\" target=\"_parent\"><img src=\"https://colab.research.google.com/assets/colab-badge.svg\" alt=\"Open In Colab\"/></a>"
      ]
    },
    {
      "cell_type": "markdown",
      "metadata": {
        "id": "B0zVr2-cW4Ui",
        "colab_type": "text"
      },
      "source": [
        "# Create DadaFrame"
      ]
    },
    {
      "cell_type": "code",
      "metadata": {
        "id": "4U6pxeERWwbg",
        "colab_type": "code",
        "colab": {}
      },
      "source": [
        ""
      ],
      "execution_count": 0,
      "outputs": []
    },
    {
      "cell_type": "markdown",
      "metadata": {
        "id": "x47avRNUXAc6",
        "colab_type": "text"
      },
      "source": [
        "# Edit DadaFrame\n",
        "\n",
        "#### Delete certain row"
      ]
    },
    {
      "cell_type": "code",
      "metadata": {
        "id": "WqQb_gVkXOg_",
        "colab_type": "code",
        "colab": {}
      },
      "source": [
        "cluster_df.drop(cluster_df.index[cluster_df['Neighbourhood'] == 'PARQUE INDUSTRIAL'], inplace = True)"
      ],
      "execution_count": 0,
      "outputs": []
    },
    {
      "cell_type": "markdown",
      "metadata": {
        "id": "IzELlrUvXZL6",
        "colab_type": "text"
      },
      "source": [
        "### Insert columns"
      ]
    },
    {
      "cell_type": "code",
      "metadata": {
        "id": "FITjE6rXXX1q",
        "colab_type": "code",
        "colab": {}
      },
      "source": [
        ""
      ],
      "execution_count": 0,
      "outputs": []
    },
    {
      "cell_type": "markdown",
      "metadata": {
        "id": "OXxETxLRXi0y",
        "colab_type": "text"
      },
      "source": [
        "# Select from DataFrame\n",
        "\n",
        "### Iterate rows and columns\n",
        "https://thispointer.com/pandas-loop-or-iterate-over-all-or-certain-columns-of-a-dataframe/"
      ]
    },
    {
      "cell_type": "code",
      "metadata": {
        "id": "a8IvrnYvX257",
        "colab_type": "code",
        "colab": {}
      },
      "source": [
        "    Name  Age      City\n",
        "a   jack   34    Sydney\n",
        "b   Riti   31     Delhi\n",
        "c   Aadi   16  New York\n",
        "d  Mohit   32     Delhi\n",
        "\n",
        "# Iterate over two given columns only from the dataframe\n",
        "for column in df[['Name', 'City']]:\n",
        "   # Select column contents by column name using [] operator\n",
        "   columnSeriesObj = df[column]\n",
        "   print('Colunm Name : ', column)\n",
        "   print('Column Contents : ', columnSeriesObj.values)\n",
        "\n",
        "\"\"\"Outputs:\n",
        "Colunm Name :  Name\n",
        "Column Contents :  ['jack' 'Riti' 'Aadi' 'Mohit']\n",
        "Colunm Name :  City\n",
        "Column Contents :  ['Sydney' 'Delhi' 'New York' 'Delhi']\n",
        "\"\"\""
      ],
      "execution_count": 0,
      "outputs": []
    }
  ]
}