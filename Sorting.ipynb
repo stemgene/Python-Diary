{
  "nbformat": 4,
  "nbformat_minor": 0,
  "metadata": {
    "colab": {
      "name": "Sorting.ipynb",
      "provenance": [],
      "authorship_tag": "ABX9TyPTWhFF2xgBSzytW1l+5lBa",
      "include_colab_link": true
    },
    "kernelspec": {
      "name": "python3",
      "display_name": "Python 3"
    }
  },
  "cells": [
    {
      "cell_type": "markdown",
      "metadata": {
        "id": "view-in-github",
        "colab_type": "text"
      },
      "source": [
        "<a href=\"https://colab.research.google.com/github/stemgene/Python-Diary/blob/master/Sorting.ipynb\" target=\"_parent\"><img src=\"https://colab.research.google.com/assets/colab-badge.svg\" alt=\"Open In Colab\"/></a>"
      ]
    },
    {
      "cell_type": "markdown",
      "metadata": {
        "id": "InEjrr_iFH9D",
        "colab_type": "text"
      },
      "source": [
        "https://leetcode-cn.com/problems/sort-an-array/solution/python-shi-xian-de-shi-da-jing-dian-pai-xu-suan-fa/"
      ]
    },
    {
      "cell_type": "markdown",
      "metadata": {
        "id": "XGTPXvUx_wyQ",
        "colab_type": "text"
      },
      "source": [
        "# Bubble Sort\n",
        "\n",
        "![bubble sort](https://runestone.academy/runestone/books/published/pythonds/_images/bubblepass.png)\n",
        "\n",
        "i  0 ~ n-2  range(0, n-1)    j=0\n",
        "\n",
        "i  0 ~ n-3  range(0, n-1-1)  j=1\n",
        "\n",
        "i  0 ~ n-4  range(0, n-1-2)  j=2\n",
        "\n",
        "j= n i  range(0, n-1-j)  j=j"
      ]
    },
    {
      "cell_type": "code",
      "metadata": {
        "id": "2K7i1jT4_uLS",
        "colab_type": "code",
        "outputId": "1325979d-005e-4cf8-8865-d5bd9bb7abcb",
        "colab": {
          "base_uri": "https://localhost:8080/",
          "height": 51
        }
      },
      "source": [
        "#先写内层循环i（横向），再写纵向的外层循环j\n",
        "def bubble_sort(alist):\n",
        "  n = len(alist)\n",
        "  for j in range(n-1):\n",
        "    for i in range(0, n-1-j): #start from 0, the last digit is n-1\n",
        "      if alist[i] > alist[i+1]:\n",
        "        alist[i], alist[i+1] = alist[i+1], alist[i]\n",
        "\n",
        "if __name__ == \"__main__\":\n",
        "  alist = [54, 26, 93, 17, 77, 31, 44, 55, 20]\n",
        "  print(alist)\n",
        "  bubble_sort(alist)\n",
        "  print(alist)"
      ],
      "execution_count": 0,
      "outputs": [
        {
          "output_type": "stream",
          "text": [
            "[54, 26, 93, 17, 77, 31, 44, 55, 20]\n",
            "[17, 20, 26, 31, 44, 54, 55, 77, 93]\n"
          ],
          "name": "stdout"
        }
      ]
    },
    {
      "cell_type": "markdown",
      "metadata": {
        "id": "z0njAypJRcgu",
        "colab_type": "text"
      },
      "source": [
        "## Optimized bubble sort\n",
        "\n",
        "考虑到给出的序列就是排好序的"
      ]
    },
    {
      "cell_type": "code",
      "metadata": {
        "id": "W1eq0zDm_-cG",
        "colab_type": "code",
        "outputId": "ea670a4e-5422-4910-b729-d2535f5cad78",
        "colab": {
          "base_uri": "https://localhost:8080/",
          "height": 51
        }
      },
      "source": [
        "#先写内层循环i（横向），再写纵向的外层循环j\n",
        "def bubble_sort(alist):\n",
        "  n = len(alist)\n",
        "  for j in range(n-1):\n",
        "    count = 0\n",
        "    for i in range(0, n-1-j): #start from 0, the last digit is n-1\n",
        "      if alist[i] > alist[i+1]:\n",
        "        alist[i], alist[i+1] = alist[i+1], alist[i]\n",
        "        count += 1\n",
        "    if count == 0: #代表后面的已经排好序了\n",
        "      return\n",
        "\n",
        "if __name__ == \"__main__\":\n",
        "  alist = [54, 26, 93, 17, 77, 31, 44, 55, 20]\n",
        "  print(alist)\n",
        "  bubble_sort(alist)\n",
        "  print(alist)"
      ],
      "execution_count": 0,
      "outputs": [
        {
          "output_type": "stream",
          "text": [
            "[54, 26, 93, 17, 77, 31, 44, 55, 20]\n",
            "[17, 20, 26, 31, 44, 54, 55, 77, 93]\n"
          ],
          "name": "stdout"
        }
      ]
    },
    {
      "cell_type": "markdown",
      "metadata": {
        "id": "Mv425DMUVXc3",
        "colab_type": "text"
      },
      "source": [
        "# Selection Sorting"
      ]
    },
    {
      "cell_type": "markdown",
      "metadata": {
        "id": "Gu7gdBfOVjaN",
        "colab_type": "text"
      },
      "source": [
        "![替代文字](https://gblobscdn.gitbook.com/assets%2F-M6ArfyS6R2h2Ac740eW%2F-M6F9n1Y46L-SobBcMG-%2F-M6FJIi4pD7D8yrIaeCx%2Fimage.png?alt=media&token=e9500f14-e1de-4d75-9caf-1a8c56012bb0)\n",
        "\n",
        "* 第1趟比较：拿第1个元素依次和它后面的每个元素进行比较，如果第1个元素大于后面某个元素，交换它们，经过第1趟比较，数组中最小的元素被选出，它被排在第一位。\n",
        "\n",
        "* 第2趟比较：拿第2个元素依次和它后面的每个元素进行比较，如果第2个元素大于后面某个元素，交换它们，经过第2趟比较，数组中第2小的元素被选出，它被排在第二位。\n",
        "\n",
        "  ......\n",
        "\n",
        "* 第n-1趟比较：第n-1个元素和第n个元素作比较，如果第n-1个元素大于第n个元素，交换它们。"
      ]
    },
    {
      "cell_type": "code",
      "metadata": {
        "id": "SdjDF98BVbeM",
        "colab_type": "code",
        "outputId": "9325415e-612c-4cf3-c789-a55e07c482bf",
        "colab": {
          "base_uri": "https://localhost:8080/",
          "height": 51
        }
      },
      "source": [
        "def selection_sort(alist):\n",
        "  n = len(alist)\n",
        "  for j in range(0, n-1): # j: 0~n-2\n",
        "    min_index = j\n",
        "    for i in range(j+1,n):\n",
        "      if alist[min_index] > alist[i]:\n",
        "        min_index = i\n",
        "    alist[j], alist[min_index] = alist[min_index], alist[j]\n",
        "\n",
        "if __name__ == \"__main__\":\n",
        "  alist = [54, 26, 93, 17, 77, 31, 44, 55, 20]\n",
        "  print(alist)\n",
        "  selection_sort(alist)\n",
        "  print(alist)"
      ],
      "execution_count": 0,
      "outputs": [
        {
          "output_type": "stream",
          "text": [
            "[54, 26, 93, 17, 77, 31, 44, 55, 20]\n",
            "[17, 20, 26, 31, 44, 54, 55, 77, 93]\n"
          ],
          "name": "stdout"
        }
      ]
    },
    {
      "cell_type": "markdown",
      "metadata": {
        "id": "k8NaY_zQe3cw",
        "colab_type": "text"
      },
      "source": [
        "# Insertion Sorting\n",
        "\n",
        "![替代文字](https://gblobscdn.gitbook.com/assets%2F-M6ArfyS6R2h2Ac740eW%2F-M6F9n1Y46L-SobBcMG-%2F-M6FQvu5lzyt34Zyc8WM%2Fimage.png?alt=media&token=328fe43d-24f1-4ece-a6a5-c78e4ec85874)"
      ]
    },
    {
      "cell_type": "code",
      "metadata": {
        "id": "vb9xtLZ-fAgj",
        "colab_type": "code",
        "outputId": "27b412ea-8e7e-47c0-9031-80897d3cbcea",
        "colab": {
          "base_uri": "https://localhost:8080/",
          "height": 51
        }
      },
      "source": [
        "def insertion_sort(alist):\n",
        "  n = len(alist)\n",
        "  # 从右边的无序序列中取出多少个元素执行\n",
        "  for j in range(1, n):\n",
        "    # j = [1, 2, 3, ..., n-1]\n",
        "    # i 代表内层循环起始值\n",
        "    i = j\n",
        "    # 执行从右边的无序序列中取出第一个元素，即i位置的元素，然后将其插入到前面的正确位置中\n",
        "    while i > 0:\n",
        "      if alist[i] < alist[i-1]:\n",
        "        alist[i], alist[i-1] = alist[i-1], alist[i]\n",
        "        i -= 1\n",
        "      else:\n",
        "        break\n",
        "\n",
        "if __name__ == \"__main__\":\n",
        "  alist = [54, 26, 93, 17, 77, 31, 44, 55, 20]\n",
        "  print(alist)\n",
        "  insertion_sort(alist)\n",
        "  print(alist)"
      ],
      "execution_count": 0,
      "outputs": [
        {
          "output_type": "stream",
          "text": [
            "[54, 26, 93, 17, 77, 31, 44, 55, 20]\n",
            "[17, 20, 26, 31, 44, 54, 55, 77, 93]\n"
          ],
          "name": "stdout"
        }
      ]
    },
    {
      "cell_type": "code",
      "metadata": {
        "id": "HeUm7WAdizA0",
        "colab_type": "code",
        "outputId": "718ec37c-f130-4305-8780-0287fa29c16c",
        "colab": {
          "base_uri": "https://localhost:8080/",
          "height": 51
        }
      },
      "source": [
        "def sortArray(nums):\n",
        "    n = len(nums)\n",
        "    for j in range(1, n):\n",
        "        for i in range(j, 0, -1):\n",
        "            if nums[i] < nums[i - 1]:\n",
        "                nums[i-1], nums[i] = nums[i], nums[i-1]\n",
        "    return nums\n",
        "\n",
        "if __name__ == \"__main__\":\n",
        "  alist = [54, 26, 93, 17, 77, 31, 44, 55, 20]\n",
        "  print(alist)\n",
        "  sortArray(alist)\n",
        "  print(alist)"
      ],
      "execution_count": 0,
      "outputs": [
        {
          "output_type": "stream",
          "text": [
            "[54, 26, 93, 17, 77, 31, 44, 55, 20]\n",
            "[17, 20, 26, 31, 44, 54, 55, 77, 93]\n"
          ],
          "name": "stdout"
        }
      ]
    },
    {
      "cell_type": "markdown",
      "metadata": {
        "id": "mZ4dkU4FD7dX",
        "colab_type": "text"
      },
      "source": [
        "## Shell Sorting\n",
        "\n",
        "https://www.tutorialspoint.com/data_structures_algorithms/shell_sort_algorithm.htm"
      ]
    },
    {
      "cell_type": "code",
      "metadata": {
        "id": "QjyUkFnyEBzk",
        "colab_type": "code",
        "outputId": "ee6c7177-7617-45fe-d634-34d06da615b1",
        "colab": {
          "base_uri": "https://localhost:8080/",
          "height": 51
        }
      },
      "source": [
        "def shell_sort(alist):\n",
        "  n = len(alist)\n",
        "  gap = n // 2\n",
        "\n",
        "  # gap变化到0之前，插入算法执行的次数\n",
        "  while gap > 0:\n",
        "    #插入算法，与普通的插入算法的区别就是gap步长\n",
        "    for j in range(gap, n):\n",
        "      # j = [gap, gap+1, gap+2,...,n-1]\n",
        "      i = j\n",
        "      while i > 0:\n",
        "        if alist[i] < alist[i-gap]:\n",
        "          alist[i], alist[i-gap] = alist[i-gap], alist[i]\n",
        "          i -= gap\n",
        "        else:\n",
        "          break\n",
        "    # 缩短gap步长\n",
        "    gap //= 2\n",
        "\n",
        "\n",
        "if __name__ == \"__main__\":\n",
        "  alist = [54, 26, 93, 17, 77, 31, 44, 55, 20]\n",
        "  print(alist)\n",
        "  shell_sort(alist)\n",
        "  print(alist)"
      ],
      "execution_count": 0,
      "outputs": [
        {
          "output_type": "stream",
          "text": [
            "[54, 26, 93, 17, 77, 31, 44, 55, 20]\n",
            "[17, 20, 26, 31, 44, 54, 55, 77, 93]\n"
          ],
          "name": "stdout"
        }
      ]
    },
    {
      "cell_type": "markdown",
      "metadata": {
        "id": "SnhpxMZ6vbC-",
        "colab_type": "text"
      },
      "source": [
        "# Quicksort\n",
        "\n",
        "https://www.youtube.com/watch?v=UdeI5Xxij7A&list=PLC664nq_h8b_q8Hjq_q8fbst1TO1AKKz-&index=41\n",
        "\n",
        "1. 从第一个数开始，将之暂存至`mid_value`的临时变量中，设置`low_index`和`high_index`分别指向左右两端。\n",
        "2. 从右侧开始比较，如果`high>mid`, `high_index`向左移一步，否则`high`移到`low_index`上。\n",
        "\n",
        "  - 在移动过程中的原则：因为起初把第一个值寄存到`mid_value`中，所以`low_index`就空了，然后low和high移来移去始终空着一个位置。对于已经空了的位置，该位置对应的index是不动的，直到有数值移过来为止。 \n",
        "  - 如果遇到相等的情况，所有值放到`mid_valude`的同一边，要么大要么小。\n",
        "3. `low_index`向右，`high_index`向左，重复上述过程，直到`low_index==high_index`，然后把`mid_value`赋给这个位置。\n",
        "4. 分别重复做`mid_value`左右两边的序列。\n",
        "\n",
        "![替代文字](https://gblobscdn.gitbook.com/assets%2F-M6ArfyS6R2h2Ac740eW%2F-M6FzLM3VTybsIS0o05d%2F-M6GXHyDpzFULqTg9KW9%2Fimage.png?alt=media&token=4af175fa-8aed-4483-b824-c366794d1790)"
      ]
    },
    {
      "cell_type": "code",
      "metadata": {
        "id": "TSrufF2Xvs0L",
        "colab_type": "code",
        "outputId": "9c05c456-db47-4f43-9bc8-68a42b32d4bf",
        "colab": {
          "base_uri": "https://localhost:8080/",
          "height": 51
        }
      },
      "source": [
        "def quick_sort(alist, first, last):\n",
        "  if first == last:\n",
        "    return\n",
        "\n",
        "  mid_value = alist[first]\n",
        "  n = len(alist)\n",
        "  low = first\n",
        "  high = last\n",
        "  \n",
        "  while low < high:\n",
        "    # high 左移\n",
        "    while low < high and alist[high] >= mid_value:\n",
        "      high -= 1\n",
        "    alist[low] = alist[high]\n",
        "#    low += 1\n",
        "\n",
        "    # low 右移\n",
        "    while low < high and alist[low] < mid_value:\n",
        "      low += 1\n",
        "    alist[high] = alist[low]\n",
        "    #high -= 1\n",
        "    # 从循环推出时，low==high\n",
        "    alist[low] = mid_value\n",
        "\n",
        "    # 对low左边的列表执行快速排序\n",
        "    quick_sort(alist, first, low-1) #对alist自身操作\n",
        "    # 对low右边的列表执行快速排序\n",
        "    quick_sort(alist, low+1, last)\n",
        "\n",
        "if __name__ == \"__main__\":\n",
        "  alist = [54, 26, 93, 17, 77, 31, 44, 55, 20]\n",
        "  print(alist)\n",
        "  quick_sort(alist, 0, len(alist)-1)\n",
        "  print(alist)"
      ],
      "execution_count": 0,
      "outputs": [
        {
          "output_type": "stream",
          "text": [
            "[54, 26, 93, 17, 77, 31, 44, 55, 20]\n",
            "[17, 20, 26, 31, 44, 54, 55, 77, 93]\n"
          ],
          "name": "stdout"
        }
      ]
    },
    {
      "cell_type": "code",
      "metadata": {
        "id": "TMy7i6LxinAs",
        "colab_type": "code",
        "outputId": "55279644-e5df-4672-826a-ce1b6b209561",
        "colab": {
          "base_uri": "https://localhost:8080/",
          "height": 51
        }
      },
      "source": [
        "def quick_sort(nums):\n",
        "    n = len(nums)\n",
        "\n",
        "    def quick(left, right):\n",
        "        if left >= right:\n",
        "            return nums\n",
        "        pivot = left\n",
        "        i = left\n",
        "        j = right\n",
        "        while i < j:\n",
        "            while i < j and nums[j] > nums[pivot]:\n",
        "                j -= 1\n",
        "            while i < j and nums[i] <= nums[pivot]:\n",
        "                i += 1\n",
        "            nums[i], nums[j] = nums[j], nums[i]  #i和j互换\n",
        "        nums[pivot], nums[j] = nums[j], nums[pivot]\n",
        "        quick(left, j - 1)\n",
        "        quick(j + 1, right)\n",
        "        return nums\n",
        "\n",
        "    return quick(0, n - 1)\n",
        "\n",
        "if __name__ == \"__main__\":\n",
        "  alist = [54, 26, 93, 17, 77, 31, 44, 55, 20]\n",
        "  print(alist)\n",
        "  quick_sort(alist)\n",
        "  print(alist)"
      ],
      "execution_count": 0,
      "outputs": [
        {
          "output_type": "stream",
          "text": [
            "[54, 26, 93, 17, 77, 31, 44, 55, 20]\n",
            "[17, 20, 26, 31, 44, 54, 55, 77, 93]\n"
          ],
          "name": "stdout"
        }
      ]
    },
    {
      "cell_type": "code",
      "metadata": {
        "id": "JxMLWusrim-d",
        "colab_type": "code",
        "colab": {}
      },
      "source": [
        ""
      ],
      "execution_count": 0,
      "outputs": []
    },
    {
      "cell_type": "markdown",
      "metadata": {
        "id": "LYI_xFBQJQqT",
        "colab_type": "text"
      },
      "source": [
        "# Merge Sorting\n",
        "\n",
        "![替代文字](https://gblobscdn.gitbook.com/assets%2F-M6ArfyS6R2h2Ac740eW%2F-M6FzLM3VTybsIS0o05d%2F-M6I7TSE2ndVT_5oWsMA%2Fimage.png?alt=media&token=06e8a9d7-f0eb-46a4-91c8-7b4c7d292308)"
      ]
    },
    {
      "cell_type": "code",
      "metadata": {
        "id": "QZhMdW5MJWIB",
        "colab_type": "code",
        "outputId": "c75a9488-6a60-4a0a-cb11-d7e6d3af7d4e",
        "colab": {
          "base_uri": "https://localhost:8080/",
          "height": 51
        }
      },
      "source": [
        "def merge_sort(alist):\n",
        "  n = len(alist)\n",
        "  if n <= 1:\n",
        "    return alist\n",
        "  # 拆分过程\n",
        "  mid = n // 2\n",
        "  # left， right采用归并排序后形成的有序的新的列表\n",
        "  left_li = merge_sort(alist[:mid]) # 生成新的list, 回头left\n",
        "  right_li = merge_sort(alist[mid:])\n",
        "\n",
        "  # 合并过程\n",
        "  # 将两个有序的子序列合并成一个整体\n",
        "  # merge(left, right)\n",
        "  left_pointer, right_pointer = 0, 0\n",
        "  result = []\n",
        "  \n",
        "  while (left_pointer < len(left_li)) and (right_pointer < len(right_li)):\n",
        "    if left_li[left_pointer] < right_li[right_pointer]:\n",
        "      result.append(left_li[left_pointer])\n",
        "      left_pointer += 1\n",
        "    else:\n",
        "      result.append(right_li[right_pointer])\n",
        "      right_pointer += 1\n",
        "  result += left_li[left_pointer:]\n",
        "  result += right_li[right_pointer:]\n",
        "  return result\n",
        "\n",
        "if __name__ == \"__main__\":\n",
        "  alist = [54, 26, 93, 17, 77, 31, 44, 55, 20]\n",
        "  print(alist)\n",
        "  sorted_li = merge_sort(alist)\n",
        "  print(sorted_li)"
      ],
      "execution_count": 0,
      "outputs": [
        {
          "output_type": "stream",
          "text": [
            "[54, 26, 93, 17, 77, 31, 44, 55, 20]\n",
            "[17, 20, 26, 31, 44, 54, 55, 77, 93]\n"
          ],
          "name": "stdout"
        }
      ]
    },
    {
      "cell_type": "markdown",
      "metadata": {
        "id": "LS0C3rgZNlZU",
        "colab_type": "text"
      },
      "source": [
        ""
      ]
    },
    {
      "cell_type": "code",
      "metadata": {
        "id": "TwxDCjKzmY1z",
        "colab_type": "code",
        "outputId": "deb57a03-c20a-483e-9ba3-b60ff8afff99",
        "colab": {
          "base_uri": "https://localhost:8080/",
          "height": 68
        }
      },
      "source": [
        "def extendList(val, list=[]):\n",
        "  list.append(val)\n",
        "  return list\n",
        "\n",
        "list1 = extendList(10)\n",
        "list2 = extendList(123)\n",
        "list3 = extendList('a')\n",
        "\n",
        "print(\"list1 = %s\" % list1)\n",
        "print(\"list2 = %s\" % list2)\n",
        "print(\"list3 = %s\" % list3)"
      ],
      "execution_count": 0,
      "outputs": [
        {
          "output_type": "stream",
          "text": [
            "list1 = [10, 123, 'a']\n",
            "list2 = [10, 123, 'a']\n",
            "list3 = [10, 123, 'a']\n"
          ],
          "name": "stdout"
        }
      ]
    },
    {
      "cell_type": "markdown",
      "metadata": {
        "id": "2I8jXNgbitOm",
        "colab_type": "text"
      },
      "source": [
        ""
      ]
    }
  ]
}