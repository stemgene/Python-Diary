{
  "nbformat": 4,
  "nbformat_minor": 0,
  "metadata": {
    "colab": {
      "name": "CNN.ipynb",
      "provenance": [],
      "authorship_tag": "ABX9TyNAVxHbyOCzzZwU20Yb90ns",
      "include_colab_link": true
    },
    "kernelspec": {
      "name": "python3",
      "display_name": "Python 3"
    }
  },
  "cells": [
    {
      "cell_type": "markdown",
      "metadata": {
        "id": "view-in-github",
        "colab_type": "text"
      },
      "source": [
        "<a href=\"https://colab.research.google.com/github/stemgene/Python-Diary/blob/master/CNN.ipynb\" target=\"_parent\"><img src=\"https://colab.research.google.com/assets/colab-badge.svg\" alt=\"Open In Colab\"/></a>"
      ]
    },
    {
      "cell_type": "code",
      "metadata": {
        "id": "vFmxfCmkK2rL",
        "colab_type": "code",
        "colab": {
          "base_uri": "https://localhost:8080/",
          "height": 122
        },
        "outputId": "dae47490-8bc3-4096-8b0b-4a59ccb754d5"
      },
      "source": [
        "from google.colab import drive\n",
        "drive.mount('/gdrive')"
      ],
      "execution_count": 1,
      "outputs": [
        {
          "output_type": "stream",
          "text": [
            "Go to this URL in a browser: https://accounts.google.com/o/oauth2/auth?client_id=947318989803-6bn6qk8qdgf4n4g3pfee6491hc0brc4i.apps.googleusercontent.com&redirect_uri=urn%3aietf%3awg%3aoauth%3a2.0%3aoob&response_type=code&scope=email%20https%3a%2f%2fwww.googleapis.com%2fauth%2fdocs.test%20https%3a%2f%2fwww.googleapis.com%2fauth%2fdrive%20https%3a%2f%2fwww.googleapis.com%2fauth%2fdrive.photos.readonly%20https%3a%2f%2fwww.googleapis.com%2fauth%2fpeopleapi.readonly\n",
            "\n",
            "Enter your authorization code:\n",
            "··········\n",
            "Mounted at /gdrive\n"
          ],
          "name": "stdout"
        }
      ]
    },
    {
      "cell_type": "code",
      "metadata": {
        "id": "Qost-H_2LCVj",
        "colab_type": "code",
        "colab": {}
      },
      "source": [
        "import cv2\n",
        "import numpy as np\n",
        "from matplotlib import pyplot as plt\n",
        "from scipy import ndimage"
      ],
      "execution_count": 0,
      "outputs": []
    },
    {
      "cell_type": "markdown",
      "metadata": {
        "id": "pVngyeZfLH1P",
        "colab_type": "text"
      },
      "source": [
        "## Numpy Matrix"
      ]
    },
    {
      "cell_type": "markdown",
      "metadata": {
        "id": "lsXqZVKFMFcZ",
        "colab_type": "text"
      },
      "source": [
        "#### Create 1D vector and 2D matrix"
      ]
    },
    {
      "cell_type": "code",
      "metadata": {
        "id": "IdKLb0pzMS5G",
        "colab_type": "code",
        "colab": {
          "base_uri": "https://localhost:8080/",
          "height": 34
        },
        "outputId": "4ecbc2d8-989b-4501-a9b2-753ad9961c1d"
      },
      "source": [
        "#row vector\n",
        "row = np.array([1,2,3]).reshape((1,-1))\n",
        "row"
      ],
      "execution_count": 4,
      "outputs": [
        {
          "output_type": "execute_result",
          "data": {
            "text/plain": [
              "array([[1, 2, 3]])"
            ]
          },
          "metadata": {
            "tags": []
          },
          "execution_count": 4
        }
      ]
    },
    {
      "cell_type": "code",
      "metadata": {
        "id": "-0_nocICMmZq",
        "colab_type": "code",
        "colab": {
          "base_uri": "https://localhost:8080/",
          "height": 68
        },
        "outputId": "954925cf-e51d-44f1-916c-8df874bd5928"
      },
      "source": [
        "# column vector\n",
        "col = np.array([4,5,6]).reshape((-1,1))\n",
        "col"
      ],
      "execution_count": 6,
      "outputs": [
        {
          "output_type": "execute_result",
          "data": {
            "text/plain": [
              "array([[4],\n",
              "       [5],\n",
              "       [6]])"
            ]
          },
          "metadata": {
            "tags": []
          },
          "execution_count": 6
        }
      ]
    },
    {
      "cell_type": "code",
      "metadata": {
        "id": "2Y3F1mZMP_ER",
        "colab_type": "code",
        "colab": {
          "base_uri": "https://localhost:8080/",
          "height": 51
        },
        "outputId": "3835862e-3515-4bcc-f46d-7ee99258b27e"
      },
      "source": [
        "# two rows \n",
        "two_rows = np.array([(1,2,3),(4,5,6)])\n",
        "two_rows"
      ],
      "execution_count": 7,
      "outputs": [
        {
          "output_type": "execute_result",
          "data": {
            "text/plain": [
              "array([[1, 2, 3],\n",
              "       [4, 5, 6]])"
            ]
          },
          "metadata": {
            "tags": []
          },
          "execution_count": 7
        }
      ]
    },
    {
      "cell_type": "markdown",
      "metadata": {
        "id": "D-uAGIQqLL2C",
        "colab_type": "text"
      },
      "source": [
        "Creating a NumPy matrix in the same shape as a different array. This uses  `NumPy.empty_like()`:"
      ]
    },
    {
      "cell_type": "code",
      "metadata": {
        "id": "B187rs4YQxeR",
        "colab_type": "code",
        "colab": {
          "base_uri": "https://localhost:8080/",
          "height": 51
        },
        "outputId": "fd9d9e23-34b6-403c-c34c-65eca6c1216b"
      },
      "source": [
        "# Creating ndarray from list\n",
        "c = np.array([[1., 2.,],[1., 2.]])\n",
        "\n",
        "# Creating new array in the shape of c, filled with 0\n",
        "d = np.empty_like(c)\n",
        "d"
      ],
      "execution_count": 8,
      "outputs": [
        {
          "output_type": "execute_result",
          "data": {
            "text/plain": [
              "array([[1., 1.],\n",
              "       [1., 0.]])"
            ]
          },
          "metadata": {
            "tags": []
          },
          "execution_count": 8
        }
      ]
    },
    {
      "cell_type": "code",
      "metadata": {
        "id": "px5vtJa3RWpi",
        "colab_type": "code",
        "colab": {}
      },
      "source": [
        "# A 2×2 2d array shape for the arrays in the format (rows, columns)\n",
        "shape = (2, 2)\n",
        "\n",
        "# Random values\n",
        "c = np.empty(shape)\n",
        "d = np.ones(shape)\n",
        "e = np.zeros(shape)"
      ],
      "execution_count": 0,
      "outputs": []
    },
    {
      "cell_type": "markdown",
      "metadata": {
        "id": "2yUfEJWtRkHA",
        "colab_type": "text"
      },
      "source": [
        "### Slice a matrix"
      ]
    },
    {
      "cell_type": "code",
      "metadata": {
        "id": "09VnO9yNRm0x",
        "colab_type": "code",
        "colab": {}
      },
      "source": [
        "a = np.asarray([[1,1,2,3,4], # 1st row\n",
        "               [2,6,7,8,9], # 2nd row\n",
        "               [3,6,7,8,9], # 3rd row\n",
        "               [4,6,7,8,9], # 4th row\n",
        "               [5,6,7,8,9]  # 5th row\n",
        "             ])\n",
        "\n",
        "b = np.asarray([[1,1],\n",
        "               [1,1]])\n",
        "\n",
        "# Select row in the format a[start:end], if start or end omitted it means all range.\n",
        "y = a[:1]  # 1st row\n",
        "y = a[0:1] # 1st row\n",
        "y = a[2:5] # select rows from 3rd to 5th row\n",
        "\n",
        "# Select column in the format a[start:end, column_number]\n",
        "x = a[:, –1] # -1 means first from the end\n",
        "x = a[:,1:3] # select cols from 2nd col until 3rd"
      ],
      "execution_count": 0,
      "outputs": []
    },
    {
      "cell_type": "markdown",
      "metadata": {
        "id": "5DfIrc7yR154",
        "colab_type": "text"
      },
      "source": [
        "### Merge a matrix"
      ]
    },
    {
      "cell_type": "markdown",
      "metadata": {
        "id": "k3RAIhmNR9iR",
        "colab_type": "text"
      },
      "source": [
        "#### Concatenate"
      ]
    },
    {
      "cell_type": "code",
      "metadata": {
        "id": "qWVB5SjXR5Ko",
        "colab_type": "code",
        "colab": {
          "base_uri": "https://localhost:8080/",
          "height": 34
        },
        "outputId": "e2cce835-f054-4217-a7e3-038de5da4dc0"
      },
      "source": [
        "# 1D \n",
        "a = np.array([1, 2, 3])\n",
        "b = np.array([5, 6])\n",
        "print(np.concatenate([a, b, b]))"
      ],
      "execution_count": 9,
      "outputs": [
        {
          "output_type": "stream",
          "text": [
            "[1 2 3 5 6 5 6]\n"
          ],
          "name": "stdout"
        }
      ]
    },
    {
      "cell_type": "code",
      "metadata": {
        "id": "IbNRbYhySNMY",
        "colab_type": "code",
        "colab": {}
      },
      "source": [
        "# 2D\n",
        "a2 = np.array([[1, 2], [3, 4]])\n",
        "# axis=0 – concatenate along rows\n",
        "print np.concatenate((a2, b), axis=0)\n",
        "# >>   [[1 2]\n",
        "#       [3 4]\n",
        "#       [5 6]]\n",
        "\n",
        "# axis=1 – concatenate along columns, but first b needs to be transposed:\n",
        "b.T\n",
        "#>> [[5]\n",
        "#    [6]]\n",
        "np.concatenate((a2, b.T), axis=1)\n",
        "#>> [[1 2 5]\n",
        "#    [3 4 6]]"
      ],
      "execution_count": 0,
      "outputs": []
    },
    {
      "cell_type": "markdown",
      "metadata": {
        "id": "pOzQD_nOSG-o",
        "colab_type": "text"
      },
      "source": [
        "#### Append – Append function allows you to add values to the end of a NumPy matrix"
      ]
    },
    {
      "cell_type": "code",
      "metadata": {
        "id": "_oVKLnlnScjP",
        "colab_type": "code",
        "colab": {}
      },
      "source": [
        "# 1d arrays\n",
        "print np.append(a, a2)\n",
        "# >> [1 2 3 1 2 3 4]\n",
        "\n",
        "print np.append(a, a)\n",
        "# >> [1 2 3 1 2 3]\n",
        "\n",
        "# 2d arrays. For 2D arrays, both the arrays need to match the shape of the rows.\n",
        "\n",
        "print np.append(a2, b, axis=0)\n",
        "# >> [[1 2]\n",
        "#     [3 4]\n",
        "#     [5 6]]\n",
        "\n",
        "print np.append(a2, b.T, axis=1)\n",
        "# >> [[1 2 5]\n",
        "#     [3 4 6]]"
      ],
      "execution_count": 0,
      "outputs": []
    },
    {
      "cell_type": "markdown",
      "metadata": {
        "id": "9Ly3P2XjVRJR",
        "colab_type": "text"
      },
      "source": [
        "#### Hstack (stack horizontally) and vstack (stack vertically)"
      ]
    },
    {
      "cell_type": "code",
      "metadata": {
        "id": "XMbHtnLhVSwY",
        "colab_type": "code",
        "colab": {}
      },
      "source": [
        "# 1d arrays:\n",
        "\n",
        "print np.hstack([a, b])\n",
        "# >> [1 2 3 5 6]\n",
        "\n",
        "print np.vstack([a, a])\n",
        "# >> [[1 2 3]\n",
        "#     [1 2 3]]\n",
        "\n",
        "3 2d arrays:\n",
        "\n",
        "print np.hstack([a2,a2]) # arrays must match shape\n",
        "# >> [[1 2 1 2]\n",
        "#     [3 4 3 4]]\n",
        "\n",
        "print np.vstack([a2, b])\n",
        "# >> [[1 2]\n",
        "#     [3 4]\n",
        "#     [5 6]]"
      ],
      "execution_count": 0,
      "outputs": []
    },
    {
      "cell_type": "markdown",
      "metadata": {
        "id": "GnwI2kjOZZ5R",
        "colab_type": "text"
      },
      "source": [
        "#### linespace"
      ]
    },
    {
      "cell_type": "code",
      "metadata": {
        "id": "LGCd930CZevT",
        "colab_type": "code",
        "colab": {
          "base_uri": "https://localhost:8080/",
          "height": 51
        },
        "outputId": "14065139-0db1-40af-ade6-4fe2cc02d4ff"
      },
      "source": [
        "a=np.linspace(1,3,10)\n",
        "a"
      ],
      "execution_count": 10,
      "outputs": [
        {
          "output_type": "execute_result",
          "data": {
            "text/plain": [
              "array([1.        , 1.22222222, 1.44444444, 1.66666667, 1.88888889,\n",
              "       2.11111111, 2.33333333, 2.55555556, 2.77777778, 3.        ])"
            ]
          },
          "metadata": {
            "tags": []
          },
          "execution_count": 10
        }
      ]
    },
    {
      "cell_type": "markdown",
      "metadata": {
        "id": "GdZXCAA0Zj5w",
        "colab_type": "text"
      },
      "source": [
        "### Matrix operate\n",
        "\n",
        "add() − add elements of two matrices.\n",
        "\n",
        "subtract() − subtract elements of two matrices.\n",
        "\n",
        "divide() − divide elements of two matrices.\n",
        "\n",
        "multiply() − multiply elements of two matrices.\n",
        "\n",
        "dot() − It performs matrix multiplication, does not element wise multiplication.\n",
        "\n",
        "sqrt() − square root of each element of matrix.\n",
        "\n",
        "sum(x,axis) − add to all the elements in matrix. Second argument is optional, it is used when we want to compute the column sum if axis is 0 and row sum if axis is 1.\n",
        "\n",
        "“T” − It performs transpose of the specified matrix."
      ]
    },
    {
      "cell_type": "markdown",
      "metadata": {
        "id": "UUFDgRCqa5-Z",
        "colab_type": "text"
      },
      "source": [
        "## Convolution"
      ]
    },
    {
      "cell_type": "code",
      "metadata": {
        "id": "EZAtRypLc9dj",
        "colab_type": "code",
        "colab": {
          "base_uri": "https://localhost:8080/",
          "height": 187
        },
        "outputId": "e4c054ea-aa2d-472b-ca05-e7bfef3cba28"
      },
      "source": [
        "kernel = np.array([[1/9,1/9,1/9], [1/9,1/9,1/9], [1/9,1/9,1/9]])\n",
        "image = np.array([[0.0,0.0,0.,0.,0.,0.,0.,0.,0.,0.], \n",
        "                  [0.0,0.0,0.,0.,0.,0.,0.,0.,0.,0.], \n",
        "                  [0.,0.,0.,90.,90.,90.,90.,90.,0.,0.],\n",
        "                  [0.,0.,0.,90.,90.,90.,90.,90.,0.,0.],\n",
        "                  [0.,0.,0.,90.,90.,90.,90.,90.,0.,0.],\n",
        "                  [0.,0.,0.,90.,90.,90.,90.,90.,0.,0.], \n",
        "                  [0.,0.,0.,90.,90.,90.,90.,90.,0.,0.], \n",
        "                  [0.0,0.0,0.,0.,0.,0.,0.,0.,0.,0.],\n",
        "                  [0.0,0.0,0.,0.,0.,0.,0.,0.,0.,0.],\n",
        "                  [0.0,0.0,0.,0.,0.,0.,0.,0.,0.,0.]],dtype=np.float32)\n",
        "\n",
        "ndimage.convolve(image, kernel, mode='constant', cval=0.0)"
      ],
      "execution_count": 11,
      "outputs": [
        {
          "output_type": "execute_result",
          "data": {
            "text/plain": [
              "array([[ 0.,  0.,  0.,  0.,  0.,  0.,  0.,  0.,  0.,  0.],\n",
              "       [ 0.,  0., 10., 20., 30., 30., 30., 20., 10.,  0.],\n",
              "       [ 0.,  0., 20., 40., 60., 60., 60., 40., 20.,  0.],\n",
              "       [ 0.,  0., 30., 60., 90., 90., 90., 60., 30.,  0.],\n",
              "       [ 0.,  0., 30., 60., 90., 90., 90., 60., 30.,  0.],\n",
              "       [ 0.,  0., 30., 60., 90., 90., 90., 60., 30.,  0.],\n",
              "       [ 0.,  0., 20., 40., 60., 60., 60., 40., 20.,  0.],\n",
              "       [ 0.,  0., 10., 20., 30., 30., 30., 20., 10.,  0.],\n",
              "       [ 0.,  0.,  0.,  0.,  0.,  0.,  0.,  0.,  0.,  0.],\n",
              "       [ 0.,  0.,  0.,  0.,  0.,  0.,  0.,  0.,  0.,  0.]], dtype=float32)"
            ]
          },
          "metadata": {
            "tags": []
          },
          "execution_count": 11
        }
      ]
    },
    {
      "cell_type": "markdown",
      "metadata": {
        "id": "u5JrfMwca87n",
        "colab_type": "text"
      },
      "source": [
        ""
      ]
    }
  ]
}