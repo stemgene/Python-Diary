{
  "nbformat": 4,
  "nbformat_minor": 0,
  "metadata": {
    "colab": {
      "name": "Pandas_Operation.ipynb",
      "provenance": [],
      "include_colab_link": true
    },
    "kernelspec": {
      "name": "python3",
      "display_name": "Python 3"
    }
  },
  "cells": [
    {
      "cell_type": "markdown",
      "metadata": {
        "id": "view-in-github",
        "colab_type": "text"
      },
      "source": [
        "<a href=\"https://colab.research.google.com/github/stemgene/Python-Diary/blob/master/Pandas_Operation.ipynb\" target=\"_parent\"><img src=\"https://colab.research.google.com/assets/colab-badge.svg\" alt=\"Open In Colab\"/></a>"
      ]
    },
    {
      "cell_type": "markdown",
      "metadata": {
        "id": "B0zVr2-cW4Ui",
        "colab_type": "text"
      },
      "source": [
        "# 1. Create DadaFrame"
      ]
    },
    {
      "cell_type": "code",
      "metadata": {
        "id": "4U6pxeERWwbg",
        "colab_type": "code",
        "colab": {}
      },
      "source": [
        "df = pd.DataFrame(data, columns=[\"col1\", \"col2\",\"col3\"]])"
      ],
      "execution_count": 0,
      "outputs": []
    },
    {
      "cell_type": "code",
      "metadata": {
        "id": "R9YAAHX3LMs2",
        "colab_type": "code",
        "colab": {}
      },
      "source": [
        "dd = np.linspace(0,319, 320)\n",
        "d1 = dd[0:79]\n",
        "d2 = dd[80:159]\n",
        "d3 = dd[160:239]\n",
        "d4 = dd[240: 319]\n",
        "dd = pd.DataFrame([d1, d2, d3, d4]).transpose()\n",
        "\"\"\"\n",
        "\t 0\t   1\t    2\t    3\n",
        "0\t0.0\t80.0\t160.0\t240.0\n",
        "1\t1.0\t81.0\t161.0\t241.0\n",
        "2\t2.0\t82.0\t162.0\t242.0\n",
        "3\t3.0\t83.0\t163.0\t243.0\n",
        "4\t4.0\t84.0\t164.0\t244.0"
      ],
      "execution_count": 0,
      "outputs": []
    },
    {
      "cell_type": "markdown",
      "metadata": {
        "id": "l8-nUGq5JDje",
        "colab_type": "text"
      },
      "source": [
        "### Index\n",
        "\n",
        "#### Get values of index"
      ]
    },
    {
      "cell_type": "code",
      "metadata": {
        "id": "5ruK1rqaJM8e",
        "colab_type": "code",
        "colab": {}
      },
      "source": [
        "df.index[::100]\n",
        "\"\"\" Output . # output is Series\n",
        "DatetimeIndex(['2010-01-04', '2010-05-27', '2010-10-19', '2011-03-14',\n",
        "               '2011-08-04', '2011-12-27', '2012-05-21', '2012-10-11',\n",
        "               '2013-03-11', '2013-08-01', '2013-12-23', '2014-05-19',\n",
        "               '2014-10-09', '2015-03-05', '2015-07-28', '2015-12-17',\n",
        "               '2016-05-12', '2016-10-04'],\n",
        "              dtype='datetime64[ns]', name='date', freq=None)\"\"\"\n",
        "df.index.values[::200] . # output is numpy.array\n",
        "\"\"\"\n",
        "array(['2010-01-04T00:00:00.000000000', '2010-10-19T00:00:00.000000000',\n",
        "       '2011-08-04T00:00:00.000000000', '2012-05-21T00:00:00.000000000',\n",
        "       '2013-03-11T00:00:00.000000000', '2013-12-23T00:00:00.000000000',\n",
        "       '2014-10-09T00:00:00.000000000', '2015-07-28T00:00:00.000000000',\n",
        "       '2016-05-12T00:00:00.000000000'], dtype='datetime64[ns]')"
      ],
      "execution_count": 0,
      "outputs": []
    },
    {
      "cell_type": "markdown",
      "metadata": {
        "id": "x47avRNUXAc6",
        "colab_type": "text"
      },
      "source": [
        "# 2. Edit DadaFrame\n",
        "\n",
        "#### Delete certain row"
      ]
    },
    {
      "cell_type": "code",
      "metadata": {
        "id": "WqQb_gVkXOg_",
        "colab_type": "code",
        "colab": {}
      },
      "source": [
        "cluster_df.drop(cluster_df.index[cluster_df['Neighbourhood'] == 'PARQUE INDUSTRIAL'], inplace = True)"
      ],
      "execution_count": 0,
      "outputs": []
    },
    {
      "cell_type": "markdown",
      "metadata": {
        "id": "_BPU6pOBsS2a",
        "colab_type": "text"
      },
      "source": [
        "### Create a columm from other column"
      ]
    },
    {
      "cell_type": "code",
      "metadata": {
        "id": "HGuMJToLsSVi",
        "colab_type": "code",
        "colab": {}
      },
      "source": [
        "dataset['ma7'] = dataset['price'].rolling(window=7).mean()"
      ],
      "execution_count": 0,
      "outputs": []
    },
    {
      "cell_type": "markdown",
      "metadata": {
        "id": "IzELlrUvXZL6",
        "colab_type": "text"
      },
      "source": [
        "### Insert columns"
      ]
    },
    {
      "cell_type": "code",
      "metadata": {
        "id": "4Gd6CMKur6Li",
        "colab_type": "code",
        "colab": {}
      },
      "source": [
        "\"\"\"\n",
        "  data \n",
        "0  0\n",
        "1  1\n",
        "2  2\n",
        "3  3\n",
        "4  4\n",
        "5  5\n",
        "6  6\n",
        "\"\"\"\n",
        "# Introducing weeks as dictionary \n",
        "weeks = {0:'Sunday', 1:'Monday', 2:'Tuesday', 3:'Wednesday', 4:'Thursday', 5:'Friday', 6:'Saturday'} \n",
        "# Mapping the dictionary keys to the data frame. \n",
        "data_frame['new_data_1'] = data_frame['data'].map(weeks) \n",
        "\n",
        "\"\"\" Outputs\n",
        "data  new_data_1\n",
        "0  0  Sunday\n",
        "1  1  Monday\n",
        "2  2  Tuesday\n",
        "3  3  Wednesday\n",
        "4  4  Thursday\n",
        "5  5  Friday\n",
        "6  6  Saturday"
      ],
      "execution_count": 0,
      "outputs": []
    },
    {
      "cell_type": "code",
      "metadata": {
        "id": "FITjE6rXXX1q",
        "colab_type": "code",
        "colab": {}
      },
      "source": [
        "df.insert(6, \"Date Difference\", date_difference)"
      ],
      "execution_count": 0,
      "outputs": []
    },
    {
      "cell_type": "markdown",
      "metadata": {
        "id": "xurDwBfJWErl",
        "colab_type": "text"
      },
      "source": [
        "### Drop column"
      ]
    },
    {
      "cell_type": "code",
      "metadata": {
        "id": "qeJswWk1WEKj",
        "colab_type": "code",
        "colab": {}
      },
      "source": [
        "df = df.drop(['Open', 'High', 'Low'], axis=1)"
      ],
      "execution_count": 0,
      "outputs": []
    },
    {
      "cell_type": "markdown",
      "metadata": {
        "id": "z7FewWVIPKoD",
        "colab_type": "text"
      },
      "source": [
        "### Reshape"
      ]
    },
    {
      "cell_type": "markdown",
      "metadata": {
        "id": "yVN6QgyuPvbB",
        "colab_type": "text"
      },
      "source": [
        "#### reshape(-1, 1)\n",
        "\n",
        "https://stackoverflow.com/questions/18691084/what-does-1-mean-in-numpy-reshape"
      ]
    },
    {
      "cell_type": "code",
      "metadata": {
        "id": "dVa4NALKPNbx",
        "colab_type": "code",
        "colab": {}
      },
      "source": [
        "z = np.array([[1, 2, 3, 4],\n",
        "         [5, 6, 7, 8],\n",
        "         [9, 10, 11, 12]])\n",
        "z.shape\n",
        "(3, 4)\n",
        "# -1 means unknown\n",
        "# reshape(-1)\n",
        "z.reshape(-1) # 1-D\n",
        "array([ 1,  2,  3,  4,  5,  6,  7,  8,  9, 10, 11, 12])\n",
        "\n",
        "# reshape(-1, 1)\n",
        "z.reshape(-1) \n",
        "array([[ 1],\n",
        "   [ 2],\n",
        "   [ 3],\n",
        "   [ 4],\n",
        "   [ 5],\n",
        "   [ 6],\n",
        "   [ 7],\n",
        "   [ 8],\n",
        "   [ 9],\n",
        "   [10],\n",
        "   [11],\n",
        "   [12]])\n",
        "\n",
        "#reshape(1, -1)\n",
        "z.reshape(1,-1)\n",
        "array([[ 1,  2,  3,  4,  5,  6,  7,  8,  9, 10, 11, 12]])\n",
        "\n",
        "# reshape(2, -1)\n",
        "z.reshape(2, -1)\n",
        "array([[ 1,  2,  3,  4,  5,  6],\n",
        "   [ 7,  8,  9, 10, 11, 12]])\n"
      ],
      "execution_count": 0,
      "outputs": []
    },
    {
      "cell_type": "markdown",
      "metadata": {
        "id": "OXxETxLRXi0y",
        "colab_type": "text"
      },
      "source": [
        "# 3. Select from DataFrame\n",
        "\n",
        "### Iterate rows and columns\n",
        "https://thispointer.com/pandas-loop-or-iterate-over-all-or-certain-columns-of-a-dataframe/"
      ]
    },
    {
      "cell_type": "code",
      "metadata": {
        "id": "a8IvrnYvX257",
        "colab_type": "code",
        "colab": {}
      },
      "source": [
        "    Name  Age      City\n",
        "a   jack   34    Sydney\n",
        "b   Riti   31     Delhi\n",
        "c   Aadi   16  New York\n",
        "d  Mohit   32     Delhi\n",
        "\n",
        "# Iterate over two given columns only from the dataframe\n",
        "for column in df[['Name', 'City']]:\n",
        "   # Select column contents by column name using [] operator\n",
        "   columnSeriesObj = df[column]\n",
        "   print('Colunm Name : ', column)\n",
        "   print('Column Contents : ', columnSeriesObj.values)\n",
        "\n",
        "\"\"\"Outputs:\n",
        "Colunm Name :  Name\n",
        "Column Contents :  ['jack' 'Riti' 'Aadi' 'Mohit']\n",
        "Colunm Name :  City\n",
        "Column Contents :  ['Sydney' 'Delhi' 'New York' 'Delhi']\n",
        "\"\"\""
      ],
      "execution_count": 0,
      "outputs": []
    },
    {
      "cell_type": "markdown",
      "metadata": {
        "id": "ZQU5pauuqdw8",
        "colab_type": "text"
      },
      "source": [
        "Find values with conditions"
      ]
    },
    {
      "cell_type": "code",
      "metadata": {
        "id": "rLSpSObkmyZd",
        "colab_type": "code",
        "colab": {}
      },
      "source": [
        "  New_Visit\tNoshow_rate\n",
        "35  \t0\t        1.0\n",
        "36   \t1\t        0.0\n",
        "37\t  1\t        0.0\n",
        "38\t  0\t        1.0\n",
        "39\t  1\t        0.0\n",
        "40    0         0.0\n",
        "\n",
        "status = []\n",
        "for index, row in noshowdf.iterrows(): \n",
        "\"\"\"\n",
        "index = 0, \n",
        "row = \n",
        "New_Visit 1 \n",
        "Noshow_rate 0\n",
        "If want specific value or row, can use either \n",
        "row[\"New_Visit\"] or\n",
        "row[0]\n",
        "\"\"\"\n",
        "  if row[0] == 1: \n",
        "    status.append('New Patient')\n",
        "  else:\n",
        "    if row[1] == 0.0:\n",
        "      status.append('Well-behaved Patient')\n",
        "    else: # noshow_rate > 0\n",
        "      status.append(\"have no show history patient\")\n",
        "\n",
        "\"\"\"Outputs:\n",
        "['have no show history patient',\n",
        " 'New Patient',\n",
        " 'New Patient',\n",
        " 'have no show history patient',\n",
        " 'New Patient',\n",
        " 'Well-behaved Patient']\n",
        " \"\"\""
      ],
      "execution_count": 0,
      "outputs": []
    },
    {
      "cell_type": "code",
      "metadata": {
        "id": "uhU6JMlIRD1F",
        "colab_type": "code",
        "colab": {}
      },
      "source": [
        "\t          symbol\topen    \tclose\t    low\t         high\t     volume\n",
        "date\t\t\t\t\t\t\n",
        "2016-12-30\tZBH\t103.309998\t103.199997\t102.849998\t103.930000\t973800.0\n",
        "2016-12-30\tZION\t43.070000\t43.040001\t42.689999\t43.310001\t1938100.0\n",
        "2016-12-30\tZTS\t53.639999\t53.529999\t53.270000\t53.740002\t1701200.0\n",
        "2016-12-30\tAIV\t44.730000\t45.450001\t44.410000\t45.590000\t1380900.0\n",
        "2016-12-30\tFTV\t54.200001\t53.630001\t53.389999\t54.480000\t705100.0\n",
        "\n",
        "df[df.symbol == 'EQIX'].open.values"
      ],
      "execution_count": 0,
      "outputs": []
    },
    {
      "cell_type": "code",
      "metadata": {
        "id": "YvptNKPbIJq4",
        "colab_type": "code",
        "colab": {}
      },
      "source": [
        "# It can choose values from a column by certain steps\n",
        "stocks['open'].loc[::253] #300 is a step len\n",
        "\n",
        "\"\"\" Outputs:\n",
        "date\n",
        "2010-01-04     626.951088\n",
        "2011-01-04     605.621034\n",
        "2012-01-05     662.131164\n",
        "2013-01-09     732.271256\n",
        "2014-01-10    1139.081977\n",
        "2015-01-13     498.842256\n",
        "2016-01-14     705.380005\n",
        "Name: open, dtype: float64"
      ],
      "execution_count": 0,
      "outputs": []
    },
    {
      "cell_type": "markdown",
      "metadata": {
        "id": "tWUjMbHvrSvj",
        "colab_type": "text"
      },
      "source": [
        "# 4. Cell's Value operation\n",
        "\n",
        "### Groupby"
      ]
    },
    {
      "cell_type": "code",
      "metadata": {
        "id": "qXUmrNRurety",
        "colab_type": "code",
        "colab": {}
      },
      "source": [
        "  New_Visit\tNoshow_rate\tStatus\n",
        "37\t1\t          0.0\t    New Patient\n",
        "38\t0\t          1.0\t    have no show history patient\n",
        "39\t1\t          0.0\t    New Patient\n",
        "\n",
        "noshowdf.groupby(\"Status\").count()\n",
        "\n",
        "\"\"\"Outputs:\n",
        "Status\t                        New_Visit\tNoshow_rate\n",
        "New Patient\t                       61858\t61858\n",
        "Well-behaved Patient\t             28291\t28291\n",
        "have no show history patient\t     14191\t14191\n",
        "\"\"\""
      ],
      "execution_count": 0,
      "outputs": []
    },
    {
      "cell_type": "markdown",
      "metadata": {
        "id": "PIKSI0e3GKRP",
        "colab_type": "text"
      },
      "source": [
        "### Change column's value"
      ]
    },
    {
      "cell_type": "code",
      "metadata": {
        "id": "dnhAi2wfFxJE",
        "colab_type": "code",
        "colab": {}
      },
      "source": [
        "price_level_cols = ['price', 'ma7', 'ma21','26ema', '12ema', 'upper_band','lower_band','ema','momentum','FFT 3', 'FFT 6', 'FFT 9','ARIMA']\n",
        "df_normed = df.copy()\n",
        "df_normed[price_level_cols] = price_normed"
      ],
      "execution_count": 0,
      "outputs": []
    },
    {
      "cell_type": "markdown",
      "metadata": {
        "id": "m0D4iirKv5gG",
        "colab_type": "text"
      },
      "source": [
        "### Fill null values\n",
        "\n",
        "https://pandas.pydata.org/pandas-docs/stable/user_guide/missing_data.html\n",
        "\n",
        "https://pandas.pydata.org/pandas-docs/stable/reference/api/pandas.DataFrame.fillna.html"
      ]
    },
    {
      "cell_type": "code",
      "metadata": {
        "id": "KoP7SjtCwAzC",
        "colab_type": "code",
        "colab": {}
      },
      "source": [
        "In [42]: df2\n",
        "Out[42]: \n",
        "        one       two     three four   five  timestamp\n",
        "a       NaN -0.282863 -1.509059  bar   True        NaT\n",
        "c       NaN  1.212112 -0.173215  bar  False        NaT\n",
        "e  0.119209 -1.044236 -0.861849  bar   True 2012-01-01\n",
        "f -2.104569 -0.494929  1.071804  bar  False 2012-01-01\n",
        "h       NaN -0.706771 -1.039575  bar   True        NaT\n",
        "\n",
        "In [43]: df2.fillna(0)\n",
        "Out[43]: \n",
        "        one       two     three four   five            timestamp\n",
        "a  0.000000 -0.282863 -1.509059  bar   True                    0\n",
        "c  0.000000  1.212112 -0.173215  bar  False                    0\n",
        "e  0.119209 -1.044236 -0.861849  bar   True  2012-01-01 00:00:00\n",
        "f -2.104569 -0.494929  1.071804  bar  False  2012-01-01 00:00:00\n",
        "h  0.000000 -0.706771 -1.039575  bar   True                    0\n",
        "\n",
        "In [44]: df2['one'].fillna('missing')\n",
        "Out[44]: \n",
        "a     missing\n",
        "c     missing\n",
        "e    0.119209\n",
        "f    -2.10457\n",
        "h     missing\n",
        "Name: one, dtype: object\n",
        "\n",
        "In [46]: df.fillna(method='pad')\n",
        "Out[46]: \n",
        "        one       two     three\n",
        "a       NaN -0.282863 -1.509059\n",
        "c       NaN  1.212112 -0.173215\n",
        "e  0.119209 -1.044236 -0.861849\n",
        "f -2.104569 -0.494929  1.071804\n",
        "h -2.104569 -0.706771 -1.039575"
      ],
      "execution_count": 0,
      "outputs": []
    }
  ]
}