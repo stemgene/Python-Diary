{
  "nbformat": 4,
  "nbformat_minor": 0,
  "metadata": {
    "colab": {
      "name": "Interview_Questions.ipynb",
      "provenance": [],
      "authorship_tag": "ABX9TyOjMmIqTIumdjjZrYhsE5Rr",
      "include_colab_link": true
    },
    "kernelspec": {
      "name": "python3",
      "display_name": "Python 3"
    }
  },
  "cells": [
    {
      "cell_type": "markdown",
      "metadata": {
        "id": "view-in-github",
        "colab_type": "text"
      },
      "source": [
        "<a href=\"https://colab.research.google.com/github/stemgene/Python-Diary/blob/master/Interview_Questions.ipynb\" target=\"_parent\"><img src=\"https://colab.research.google.com/assets/colab-badge.svg\" alt=\"Open In Colab\"/></a>"
      ]
    },
    {
      "cell_type": "markdown",
      "metadata": {
        "id": "rpmPb1AKRtFR"
      },
      "source": [
        "# Python基础"
      ]
    },
    {
      "cell_type": "markdown",
      "metadata": {
        "id": "QbcwRPrzR2oR"
      },
      "source": [
        "### 1.模块与包"
      ]
    },
    {
      "cell_type": "markdown",
      "metadata": {
        "id": "57hIDdK_R7fW"
      },
      "source": [
        "### 1.1 date模块"
      ]
    },
    {
      "cell_type": "markdown",
      "metadata": {
        "id": "P9Yxoa4ZOu-f"
      },
      "source": [
        "Q1: Given data, calculate this day is which day of this year"
      ]
    },
    {
      "cell_type": "code",
      "metadata": {
        "id": "2rXZtCWsOooF",
        "outputId": "9c117d0f-e88b-4ef1-a621-57d38b9937df",
        "colab": {
          "base_uri": "https://localhost:8080/",
          "height": 85
        }
      },
      "source": [
        "import datetime\n",
        "def dayofyear():\n",
        "  year = input(\"Please input year:\")\n",
        "  month = input(\"Please input month:\")\n",
        "  day = input(\"Please input day:\")\n",
        "  date1 = datetime.date(year=int(year), month=int(month), day=int(day))\n",
        "  date2 = datetime.date(year=int(year), month=1, day=1)\n",
        "  return (date1 - date2).days + 1\n",
        "\n",
        "date = dayofyear()\n",
        "print(date)"
      ],
      "execution_count": 5,
      "outputs": [
        {
          "output_type": "stream",
          "text": [
            "Please input year:2020\n",
            "Please input month:10\n",
            "Please input day:6\n",
            "280\n"
          ],
          "name": "stdout"
        }
      ]
    },
    {
      "cell_type": "markdown",
      "metadata": {
        "id": "buOuAJoiRmEx"
      },
      "source": [
        "### 1.2 random"
      ]
    },
    {
      "cell_type": "markdown",
      "metadata": {
        "id": "VX4WoQhmSN9w"
      },
      "source": [
        "Q2: Shuffle an ordered list"
      ]
    },
    {
      "cell_type": "code",
      "metadata": {
        "id": "ztCTg_hxQa4q",
        "outputId": "9059ddfa-5937-48be-f339-30263aa2f56a",
        "colab": {
          "base_uri": "https://localhost:8080/",
          "height": 34
        }
      },
      "source": [
        "import random\n",
        "alist = [1,2,3,4,5]\n",
        "random.shuffle(alist)\n",
        "print(alist)"
      ],
      "execution_count": 6,
      "outputs": [
        {
          "output_type": "stream",
          "text": [
            "[2, 4, 1, 3, 5]\n"
          ],
          "name": "stdout"
        }
      ]
    },
    {
      "cell_type": "code",
      "metadata": {
        "id": "I63Ni-1GUsY0"
      },
      "source": [
        ""
      ],
      "execution_count": null,
      "outputs": []
    },
    {
      "cell_type": "markdown",
      "metadata": {
        "id": "liVTz4hkUyKx"
      },
      "source": [
        "## 2. Data Structure"
      ]
    },
    {
      "cell_type": "markdown",
      "metadata": {
        "id": "AQhUmXPQUgw-"
      },
      "source": [
        "## 2.1 Sort"
      ]
    },
    {
      "cell_type": "markdown",
      "metadata": {
        "id": "b_nWAsCmWt3_"
      },
      "source": [
        "### 2.1.1 Sorted vs list.sort()\n",
        "\n",
        "list.sort()只作用于list，sorted()可以使用在任何数据结构中。默认ascending，如果要descending用`reverse=True`"
      ]
    },
    {
      "cell_type": "code",
      "metadata": {
        "id": "OgrFJu0nUkKp",
        "outputId": "8fb80548-7371-4b0c-9486-046e6c2ef40d",
        "colab": {
          "base_uri": "https://localhost:8080/",
          "height": 34
        }
      },
      "source": [
        "a = [5, 2, 3, 1, 4]\n",
        "sorted(a) # 不会影响a\n",
        "a"
      ],
      "execution_count": 3,
      "outputs": [
        {
          "output_type": "execute_result",
          "data": {
            "text/plain": [
              "[5, 2, 3, 1, 4]"
            ]
          },
          "metadata": {
            "tags": []
          },
          "execution_count": 3
        }
      ]
    },
    {
      "cell_type": "code",
      "metadata": {
        "id": "Z7wbwj5WVPej",
        "outputId": "25da55b0-bd3d-4773-b2d2-f0c110f61f1e",
        "colab": {
          "base_uri": "https://localhost:8080/",
          "height": 34
        }
      },
      "source": [
        "a.sort(reverse=True)\n",
        "a"
      ],
      "execution_count": 12,
      "outputs": [
        {
          "output_type": "execute_result",
          "data": {
            "text/plain": [
              "[5, 4, 3, 2, 1]"
            ]
          },
          "metadata": {
            "tags": []
          },
          "execution_count": 12
        }
      ]
    },
    {
      "cell_type": "code",
      "metadata": {
        "id": "OYi16P2rVnnl",
        "outputId": "14b6e5bf-837a-4f50-8470-d9cf056cfebf",
        "colab": {
          "base_uri": "https://localhost:8080/",
          "height": 34
        }
      },
      "source": [
        "d= {'a':24,'g':52,'i':12,'k':33}\n",
        "sorted(d)"
      ],
      "execution_count": 5,
      "outputs": [
        {
          "output_type": "execute_result",
          "data": {
            "text/plain": [
              "['a', 'g', 'i', 'k']"
            ]
          },
          "metadata": {
            "tags": []
          },
          "execution_count": 5
        }
      ]
    },
    {
      "cell_type": "markdown",
      "metadata": {
        "id": "0rh6Z5KDWkXu"
      },
      "source": [
        "### 2.1.2 Key Function\n",
        "\n",
        "Both sorted and list.sort() 都有key function，可以指定某个类别的排序"
      ]
    },
    {
      "cell_type": "code",
      "metadata": {
        "id": "GKTiQ0Y-YUtR",
        "outputId": "9eb2ab9b-7f86-4fb0-ae72-644f8fa26915",
        "colab": {
          "base_uri": "https://localhost:8080/",
          "height": 34
        }
      },
      "source": [
        "s = \"This is a test string from AI\"\n",
        "sorted(\"This is a test string from AI\".split())"
      ],
      "execution_count": 1,
      "outputs": [
        {
          "output_type": "execute_result",
          "data": {
            "text/plain": [
              "['AI', 'This', 'a', 'from', 'is', 'string', 'test']"
            ]
          },
          "metadata": {
            "tags": []
          },
          "execution_count": 1
        }
      ]
    },
    {
      "cell_type": "code",
      "metadata": {
        "id": "_XhfpxKIX1x6",
        "outputId": "a7fda955-ff3a-401e-a1ba-f05c9a874315",
        "colab": {
          "base_uri": "https://localhost:8080/",
          "height": 34
        }
      },
      "source": [
        "sorted(\"This is a test string from AI\".split(), key=str)"
      ],
      "execution_count": 7,
      "outputs": [
        {
          "output_type": "execute_result",
          "data": {
            "text/plain": [
              "['AI', 'This', 'a', 'from', 'is', 'string', 'test']"
            ]
          },
          "metadata": {
            "tags": []
          },
          "execution_count": 7
        }
      ]
    },
    {
      "cell_type": "code",
      "metadata": {
        "id": "E4lk9VvAYITq",
        "outputId": "a65ecb82-4317-4a44-acbf-9601ec9722fd",
        "colab": {
          "base_uri": "https://localhost:8080/",
          "height": 34
        }
      },
      "source": [
        "sorted(\"This is a test string from AI\".split(), key=str.lower)"
      ],
      "execution_count": 8,
      "outputs": [
        {
          "output_type": "execute_result",
          "data": {
            "text/plain": [
              "['a', 'AI', 'from', 'is', 'string', 'test', 'This']"
            ]
          },
          "metadata": {
            "tags": []
          },
          "execution_count": 8
        }
      ]
    },
    {
      "cell_type": "markdown",
      "metadata": {
        "id": "1X89I4mmSW3Y"
      },
      "source": [
        "Q3: 现有字典 d= {'a':24,'g':52,'i':12,'k':33}请按value值进行排序?\n",
        "\n",
        "此题是比较常见的排序应用，对多个object的特定位排序，需要使用key和lambda"
      ]
    },
    {
      "cell_type": "code",
      "metadata": {
        "id": "qJQiar-nSgiR",
        "outputId": "ce0ffc12-83f3-4c95-d7ec-5438f21c7c0e",
        "colab": {
          "base_uri": "https://localhost:8080/",
          "height": 34
        }
      },
      "source": [
        "sorted(d.items(), key=lambda x:x[1])"
      ],
      "execution_count": 2,
      "outputs": [
        {
          "output_type": "execute_result",
          "data": {
            "text/plain": [
              "[('i', 12), ('a', 24), ('k', 33), ('g', 52)]"
            ]
          },
          "metadata": {
            "tags": []
          },
          "execution_count": 2
        }
      ]
    },
    {
      "cell_type": "code",
      "metadata": {
        "id": "Fko5tb3KSrU2",
        "outputId": "8314f9f5-c03e-41c0-cd27-b810649f3f18",
        "colab": {
          "base_uri": "https://localhost:8080/",
          "height": 34
        }
      },
      "source": [
        "student_tuples = [\n",
        "    ('john', 'A', 15),\n",
        "    ('jane', 'B', 12),\n",
        "    ('dave', 'B', 10),\n",
        "]\n",
        "\n",
        "sorted(student_tuples, key = lambda x: x[2]) # sort by age"
      ],
      "execution_count": 10,
      "outputs": [
        {
          "output_type": "execute_result",
          "data": {
            "text/plain": [
              "[('dave', 'B', 10), ('jane', 'B', 12), ('john', 'A', 15)]"
            ]
          },
          "metadata": {
            "tags": []
          },
          "execution_count": 10
        }
      ]
    },
    {
      "cell_type": "code",
      "metadata": {
        "id": "2LmtCEI_ZzzT",
        "outputId": "b67ea6ee-f5d7-449b-ca0f-d9a0dbe9a190",
        "colab": {
          "base_uri": "https://localhost:8080/",
          "height": 34
        }
      },
      "source": [
        "sorted(student_tuples) # 如果不用key，则默认排序第一个元素"
      ],
      "execution_count": 11,
      "outputs": [
        {
          "output_type": "execute_result",
          "data": {
            "text/plain": [
              "[('dave', 'B', 10), ('jane', 'B', 12), ('john', 'A', 15)]"
            ]
          },
          "metadata": {
            "tags": []
          },
          "execution_count": 11
        }
      ]
    },
    {
      "cell_type": "markdown",
      "metadata": {
        "id": "iKxqrZedbgVJ"
      },
      "source": [
        "Q4: 按照age排序 alist = [{'name':'a','age':20},{'name':'b','age':30},{'name':'c','age':25}]\n",
        "\n",
        "这是又一个层级的嵌套，不能用index去call, 而是需要用到x['key']"
      ]
    },
    {
      "cell_type": "code",
      "metadata": {
        "id": "-3-okBuyZ_7R",
        "outputId": "b0716b71-da9e-4a7e-ee99-2d95a8071ea6",
        "colab": {
          "base_uri": "https://localhost:8080/",
          "height": 34
        }
      },
      "source": [
        "alist = [{'name':'a','age':20},{'name':'b','age':30},{'name':'c','age':25}]\n",
        "sorted(alist, key = lambda x:x['age'])"
      ],
      "execution_count": 15,
      "outputs": [
        {
          "output_type": "execute_result",
          "data": {
            "text/plain": [
              "[{'age': 20, 'name': 'a'}, {'age': 25, 'name': 'c'}, {'age': 30, 'name': 'b'}]"
            ]
          },
          "metadata": {
            "tags": []
          },
          "execution_count": 15
        }
      ]
    },
    {
      "cell_type": "markdown",
      "metadata": {
        "id": "-VKXoOIHjNiy"
      },
      "source": [
        "## 2.2 String"
      ]
    },
    {
      "cell_type": "markdown",
      "metadata": {
        "id": "zQAxekWpoEWX"
      },
      "source": [
        "Q5: 反转字符串"
      ]
    },
    {
      "cell_type": "code",
      "metadata": {
        "id": "9AwkEDk6jMjz",
        "outputId": "b3be9326-b7a7-4eab-8ee4-86b2ebc3fb1a",
        "colab": {
          "base_uri": "https://localhost:8080/",
          "height": 35
        }
      },
      "source": [
        "s[::-1]"
      ],
      "execution_count": 2,
      "outputs": [
        {
          "output_type": "execute_result",
          "data": {
            "application/vnd.google.colaboratory.intrinsic+json": {
              "type": "string"
            },
            "text/plain": [
              "'IA morf gnirts tset a si sihT'"
            ]
          },
          "metadata": {
            "tags": []
          },
          "execution_count": 2
        }
      ]
    },
    {
      "cell_type": "markdown",
      "metadata": {
        "id": "kHZbUmhgr6RG"
      },
      "source": [
        ""
      ]
    },
    {
      "cell_type": "markdown",
      "metadata": {
        "id": "1IAMgJ9om5bv"
      },
      "source": [
        "## 2.3 Dict"
      ]
    },
    {
      "cell_type": "markdown",
      "metadata": {
        "id": "nswIOoQGnyxO"
      },
      "source": [
        "字典推导式"
      ]
    },
    {
      "cell_type": "code",
      "metadata": {
        "id": "V72-SDeLb18U"
      },
      "source": [
        "d = {key: value for (key, value) in itemable}"
      ],
      "execution_count": null,
      "outputs": []
    },
    {
      "cell_type": "markdown",
      "metadata": {
        "id": "zaMoyNG2r9lL"
      },
      "source": [
        "Q6：str to dict"
      ]
    },
    {
      "cell_type": "code",
      "metadata": {
        "id": "unFdisS5sCPp",
        "outputId": "b5688ccc-b486-4557-fa52-bf1aa7ce995e",
        "colab": {
          "base_uri": "https://localhost:8080/",
          "height": 34
        }
      },
      "source": [
        "s = \"k:1 |k1:2|k2:3|k3:4\"\n",
        "# s.split('|')   # ['k:1', 'k:2',...]\n",
        "dict1 = {}\n",
        "\n",
        "for item in s.split('|'): \n",
        "  #print(items)  # item[0]: 'k:1'\n",
        "  key, value = item.split(':')\n",
        "  dict1[key] = int(value)\n",
        "dict1\n",
        "# 字典推导式，双层\n",
        "dict2 = {key:value for item in s.split('|') for (key, value) in (item.split(':'),) }\n",
        "dict2"
      ],
      "execution_count": 11,
      "outputs": [
        {
          "output_type": "execute_result",
          "data": {
            "text/plain": [
              "{'k': '1 ', 'k1': '2', 'k2': '3', 'k3': '4'}"
            ]
          },
          "metadata": {
            "tags": []
          },
          "execution_count": 11
        }
      ]
    },
    {
      "cell_type": "code",
      "metadata": {
        "id": "BleaBj7rz8eM"
      },
      "source": [
        ""
      ],
      "execution_count": null,
      "outputs": []
    }
  ]
}