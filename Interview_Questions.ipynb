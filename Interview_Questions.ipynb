{
  "nbformat": 4,
  "nbformat_minor": 0,
  "metadata": {
    "colab": {
      "name": "Interview_Questions.ipynb",
      "provenance": [],
      "authorship_tag": "ABX9TyPKsdwcNRnMqZl2LjNtoFmw",
      "include_colab_link": true
    },
    "kernelspec": {
      "name": "python3",
      "display_name": "Python 3"
    }
  },
  "cells": [
    {
      "cell_type": "markdown",
      "metadata": {
        "id": "view-in-github",
        "colab_type": "text"
      },
      "source": [
        "<a href=\"https://colab.research.google.com/github/stemgene/Python-Diary/blob/master/Interview_Questions.ipynb\" target=\"_parent\"><img src=\"https://colab.research.google.com/assets/colab-badge.svg\" alt=\"Open In Colab\"/></a>"
      ]
    },
    {
      "cell_type": "markdown",
      "metadata": {
        "id": "rpmPb1AKRtFR"
      },
      "source": [
        "# Python基础"
      ]
    },
    {
      "cell_type": "markdown",
      "metadata": {
        "id": "QbcwRPrzR2oR"
      },
      "source": [
        "### 1.模块与包"
      ]
    },
    {
      "cell_type": "markdown",
      "metadata": {
        "id": "57hIDdK_R7fW"
      },
      "source": [
        "### 1.1 date模块"
      ]
    },
    {
      "cell_type": "markdown",
      "metadata": {
        "id": "P9Yxoa4ZOu-f"
      },
      "source": [
        "Q1: Given data, calculate this day is which day of this year"
      ]
    },
    {
      "cell_type": "code",
      "metadata": {
        "id": "2rXZtCWsOooF",
        "outputId": "9c117d0f-e88b-4ef1-a621-57d38b9937df",
        "colab": {
          "base_uri": "https://localhost:8080/",
          "height": 85
        }
      },
      "source": [
        "import datetime\n",
        "def dayofyear():\n",
        "  year = input(\"Please input year:\")\n",
        "  month = input(\"Please input month:\")\n",
        "  day = input(\"Please input day:\")\n",
        "  date1 = datetime.date(year=int(year), month=int(month), day=int(day))\n",
        "  date2 = datetime.date(year=int(year), month=1, day=1)\n",
        "  return (date1 - date2).days + 1\n",
        "\n",
        "date = dayofyear()\n",
        "print(date)"
      ],
      "execution_count": 5,
      "outputs": [
        {
          "output_type": "stream",
          "text": [
            "Please input year:2020\n",
            "Please input month:10\n",
            "Please input day:6\n",
            "280\n"
          ],
          "name": "stdout"
        }
      ]
    },
    {
      "cell_type": "markdown",
      "metadata": {
        "id": "buOuAJoiRmEx"
      },
      "source": [
        "### 1.2 random"
      ]
    },
    {
      "cell_type": "markdown",
      "metadata": {
        "id": "VX4WoQhmSN9w"
      },
      "source": [
        "Shuffle an ordered list"
      ]
    },
    {
      "cell_type": "code",
      "metadata": {
        "id": "ztCTg_hxQa4q",
        "outputId": "9059ddfa-5937-48be-f339-30263aa2f56a",
        "colab": {
          "base_uri": "https://localhost:8080/",
          "height": 34
        }
      },
      "source": [
        "import random\n",
        "alist = [1,2,3,4,5]\n",
        "random.shuffle(alist)\n",
        "print(alist)"
      ],
      "execution_count": 6,
      "outputs": [
        {
          "output_type": "stream",
          "text": [
            "[2, 4, 1, 3, 5]\n"
          ],
          "name": "stdout"
        }
      ]
    },
    {
      "cell_type": "code",
      "metadata": {
        "id": "I63Ni-1GUsY0"
      },
      "source": [
        ""
      ],
      "execution_count": null,
      "outputs": []
    },
    {
      "cell_type": "markdown",
      "metadata": {
        "id": "liVTz4hkUyKx"
      },
      "source": [
        "## 2. Data Structure"
      ]
    }
  ]
}