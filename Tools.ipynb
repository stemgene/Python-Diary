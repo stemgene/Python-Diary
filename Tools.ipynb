{
  "nbformat": 4,
  "nbformat_minor": 0,
  "metadata": {
    "colab": {
      "name": "Tools.ipynb",
      "provenance": [],
      "include_colab_link": true
    },
    "kernelspec": {
      "name": "python3",
      "display_name": "Python 3"
    }
  },
  "cells": [
    {
      "cell_type": "markdown",
      "metadata": {
        "id": "view-in-github",
        "colab_type": "text"
      },
      "source": [
        "<a href=\"https://colab.research.google.com/github/stemgene/Python-Diary/blob/master/Tools.ipynb\" target=\"_parent\"><img src=\"https://colab.research.google.com/assets/colab-badge.svg\" alt=\"Open In Colab\"/></a>"
      ]
    },
    {
      "cell_type": "markdown",
      "metadata": {
        "id": "LNSAI48uYiCh",
        "colab_type": "text"
      },
      "source": [
        "### Create random points"
      ]
    },
    {
      "cell_type": "code",
      "metadata": {
        "id": "ocEloUKxYSjz",
        "colab_type": "code",
        "colab": {}
      },
      "source": [
        "# Method 1\n",
        "from sklearn.datasets.samples_generator import make_blobs\n",
        "centers = [[1, 1], [-1, -1], [1, -1]]\n",
        "X, labels_true = make_blobs(n_samples=10, centers=centers, cluster_std=0.4,\n",
        "                            random_state=0)\n",
        "\n",
        "X = StandardScaler().fit_transform(X)"
      ],
      "execution_count": 0,
      "outputs": []
    },
    {
      "cell_type": "code",
      "metadata": {
        "id": "S3pdqXBHY2zE",
        "colab_type": "code",
        "colab": {}
      },
      "source": [
        "# Method 2\n",
        "mean = (lat, lon)\n",
        "cov = ([-3e-7, 0],[0, 3e-7]) # range of random\n",
        "patient_gps = np.random.multivariate_normal(mean,  cov , num=1)"
      ],
      "execution_count": 0,
      "outputs": []
    },
    {
      "cell_type": "markdown",
      "metadata": {
        "id": "HV-mmFX6Z3G3",
        "colab_type": "text"
      },
      "source": [
        "### Map and points"
      ]
    },
    {
      "cell_type": "code",
      "metadata": {
        "id": "bRVegq91Z8PJ",
        "colab_type": "code",
        "colab": {}
      },
      "source": [
        "import folium\n",
        "from folium.plugins import MarkerCluster\n",
        "locationlist = [(v[0][0],v[0][1]) for v in cluster_df['patient gps'].values]\n",
        "map2 = folium.Map(location=[-20.268857, -40.302106], tiles='cartodbpositron', zoom_start=13)\n",
        "marker_cluster = MarkerCluster().add_to(map2)\n",
        "\n",
        "for point in range(0, 5000):\n",
        "    folium.Marker(locationlist[point]).add_to(marker_cluster)\n",
        "map2"
      ],
      "execution_count": 0,
      "outputs": []
    }
  ]
}